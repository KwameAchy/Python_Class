{
 "cells": [
  {
   "cell_type": "code",
   "execution_count": 1,
   "id": "8202860d",
   "metadata": {},
   "outputs": [
    {
     "data": {
      "text/plain": [
       "[0, 1, 2, 3, 4, 5, 6, 7, 8, 9, 10]"
      ]
     },
     "execution_count": 1,
     "metadata": {},
     "output_type": "execute_result"
    }
   ],
   "source": [
    "nums = [0, 1, 2, 3, 4, 5, 6, 7, 8, 9, 10]\n",
    "nums"
   ]
  },
  {
   "cell_type": "code",
   "execution_count": 2,
   "id": "155bc547",
   "metadata": {},
   "outputs": [],
   "source": [
    "nums_copy = nums"
   ]
  },
  {
   "cell_type": "code",
   "execution_count": 3,
   "id": "9a390b44",
   "metadata": {},
   "outputs": [
    {
     "data": {
      "text/plain": [
       "[0, 1, 2, 3, 4, 5, 6, 7, 8, 9, 10]"
      ]
     },
     "execution_count": 3,
     "metadata": {},
     "output_type": "execute_result"
    }
   ],
   "source": [
    "nums_copy"
   ]
  },
  {
   "cell_type": "code",
   "execution_count": 4,
   "id": "6394aff0",
   "metadata": {},
   "outputs": [
    {
     "data": {
      "text/plain": [
       "[0, 1, 2, 3, 4, 5, 6, 7, 8, 9, 10, 11]"
      ]
     },
     "execution_count": 4,
     "metadata": {},
     "output_type": "execute_result"
    }
   ],
   "source": [
    "nums_copy.append(11)\n",
    "nums_copy"
   ]
  },
  {
   "cell_type": "code",
   "execution_count": 5,
   "id": "c5722a65",
   "metadata": {},
   "outputs": [
    {
     "data": {
      "text/plain": [
       "[0, 1, 2, 3, 4, 5, 6, 7, 8, 9, 10, 11]"
      ]
     },
     "execution_count": 5,
     "metadata": {},
     "output_type": "execute_result"
    }
   ],
   "source": [
    "nums"
   ]
  },
  {
   "cell_type": "code",
   "execution_count": 6,
   "id": "0949a231",
   "metadata": {},
   "outputs": [
    {
     "data": {
      "text/plain": [
       "[0, 1, 2, 3, 4, 5, 6, 7, 8, 9, 10, 11]"
      ]
     },
     "execution_count": 6,
     "metadata": {},
     "output_type": "execute_result"
    }
   ],
   "source": [
    "nums_copy_right = nums[:]\n",
    "nums_copy_right"
   ]
  },
  {
   "cell_type": "code",
   "execution_count": 7,
   "id": "56e036c4",
   "metadata": {},
   "outputs": [
    {
     "data": {
      "text/plain": [
       "[0, 1, 2, 3, 4, 5, 6, 7, 8, 9, 10, 11, 12]"
      ]
     },
     "execution_count": 7,
     "metadata": {},
     "output_type": "execute_result"
    }
   ],
   "source": [
    "nums_copy_right.append(12)\n",
    "nums_copy_right"
   ]
  },
  {
   "cell_type": "code",
   "execution_count": 8,
   "id": "8f3f39f6",
   "metadata": {},
   "outputs": [
    {
     "data": {
      "text/plain": [
       "[0, 1, 2, 3, 4, 5, 6, 7, 8, 9, 10, 11]"
      ]
     },
     "execution_count": 8,
     "metadata": {},
     "output_type": "execute_result"
    }
   ],
   "source": [
    "nums"
   ]
  },
  {
   "cell_type": "code",
   "execution_count": 9,
   "id": "e698a5fe",
   "metadata": {},
   "outputs": [
    {
     "data": {
      "text/plain": [
       "(12, 15)"
      ]
     },
     "execution_count": 9,
     "metadata": {},
     "output_type": "execute_result"
    }
   ],
   "source": [
    "# Tuple  is like a list but can't be modified \n",
    "\n",
    "ages = (12, 15)\n",
    "ages"
   ]
  },
  {
   "cell_type": "code",
   "execution_count": 10,
   "id": "f61d137c",
   "metadata": {},
   "outputs": [
    {
     "data": {
      "text/plain": [
       "15"
      ]
     },
     "execution_count": 10,
     "metadata": {},
     "output_type": "execute_result"
    }
   ],
   "source": [
    "ages[1]"
   ]
  },
  {
   "cell_type": "code",
   "execution_count": 11,
   "id": "f910ea96",
   "metadata": {},
   "outputs": [
    {
     "data": {
      "text/plain": [
       "tuple"
      ]
     },
     "execution_count": 11,
     "metadata": {},
     "output_type": "execute_result"
    }
   ],
   "source": [
    "type(ages)"
   ]
  },
  {
   "cell_type": "code",
   "execution_count": 12,
   "id": "8520f2da",
   "metadata": {},
   "outputs": [
    {
     "data": {
      "text/plain": [
       "list"
      ]
     },
     "execution_count": 12,
     "metadata": {},
     "output_type": "execute_result"
    }
   ],
   "source": [
    "type(nums)"
   ]
  },
  {
   "cell_type": "code",
   "execution_count": 13,
   "id": "2d78508f",
   "metadata": {},
   "outputs": [
    {
     "data": {
      "text/plain": [
       "tuple"
      ]
     },
     "execution_count": 13,
     "metadata": {},
     "output_type": "execute_result"
    }
   ],
   "source": [
    "brands = \"Nokia\", \"Samsung\",\n",
    "type(brands)"
   ]
  },
  {
   "cell_type": "code",
   "execution_count": 14,
   "id": "58e4344d",
   "metadata": {},
   "outputs": [
    {
     "data": {
      "text/plain": [
       "tuple"
      ]
     },
     "execution_count": 14,
     "metadata": {},
     "output_type": "execute_result"
    }
   ],
   "source": [
    "tvs = \"LG\",\n",
    "type(tvs)"
   ]
  },
  {
   "cell_type": "code",
   "execution_count": 15,
   "id": "ff24d70d",
   "metadata": {},
   "outputs": [
    {
     "data": {
      "text/plain": [
       "['LG']"
      ]
     },
     "execution_count": 15,
     "metadata": {},
     "output_type": "execute_result"
    }
   ],
   "source": [
    "tvs = list(tvs)\n",
    "tvs"
   ]
  },
  {
   "cell_type": "code",
   "execution_count": 22,
   "id": "04324457",
   "metadata": {},
   "outputs": [],
   "source": [
    "# dictionaries \n",
    "\n",
    "# key -> value pairs"
   ]
  },
  {
   "cell_type": "code",
   "execution_count": 21,
   "id": "44782231",
   "metadata": {},
   "outputs": [],
   "source": [
    "person ={\n",
    "    \"name\": \"Achy\",\n",
    "    \"age\": 82,\n",
    "    \"height\": 154,\n",
    "    \"isMale\": True\n",
    "}"
   ]
  },
  {
   "cell_type": "code",
   "execution_count": 23,
   "id": "2c75a228",
   "metadata": {},
   "outputs": [
    {
     "data": {
      "text/plain": [
       "{'name': 'Achy', 'age': 82, 'height': 154, 'isMale': True}"
      ]
     },
     "execution_count": 23,
     "metadata": {},
     "output_type": "execute_result"
    }
   ],
   "source": [
    "person"
   ]
  },
  {
   "cell_type": "code",
   "execution_count": 24,
   "id": "3c97cab2",
   "metadata": {},
   "outputs": [
    {
     "name": "stdout",
     "output_type": "stream",
     "text": [
      "name Achy\n",
      "age 82\n",
      "height 154\n",
      "isMale True\n"
     ]
    }
   ],
   "source": [
    "for key, value in person.items():\n",
    "    print(key, value)"
   ]
  },
  {
   "cell_type": "code",
   "execution_count": 25,
   "id": "601244fa",
   "metadata": {},
   "outputs": [
    {
     "name": "stdout",
     "output_type": "stream",
     "text": [
      "name\n",
      "age\n",
      "height\n",
      "isMale\n"
     ]
    }
   ],
   "source": [
    "for key in person.keys():\n",
    "    print(key)"
   ]
  },
  {
   "cell_type": "code",
   "execution_count": 26,
   "id": "2abec090",
   "metadata": {},
   "outputs": [
    {
     "name": "stdout",
     "output_type": "stream",
     "text": [
      "Achy\n",
      "82\n",
      "154\n",
      "True\n"
     ]
    }
   ],
   "source": [
    "for value in person.values():\n",
    "    print(value)"
   ]
  },
  {
   "cell_type": "code",
   "execution_count": 28,
   "id": "5166e68a",
   "metadata": {},
   "outputs": [
    {
     "data": {
      "text/plain": [
       "82"
      ]
     },
     "execution_count": 28,
     "metadata": {},
     "output_type": "execute_result"
    }
   ],
   "source": [
    "person[\"age\"]"
   ]
  },
  {
   "cell_type": "code",
   "execution_count": 29,
   "id": "deacca4c",
   "metadata": {},
   "outputs": [
    {
     "data": {
      "text/plain": [
       "True"
      ]
     },
     "execution_count": 29,
     "metadata": {},
     "output_type": "execute_result"
    }
   ],
   "source": [
    "person[\"isMale\"]"
   ]
  },
  {
   "cell_type": "code",
   "execution_count": 30,
   "id": "57e18889",
   "metadata": {},
   "outputs": [
    {
     "data": {
      "text/plain": [
       "{'name': 'Achy', 'age': 82, 'height': 154, 'isMale': True, 'Club': 'Chelsea'}"
      ]
     },
     "execution_count": 30,
     "metadata": {},
     "output_type": "execute_result"
    }
   ],
   "source": [
    "person[\"Club\"] = \"Chelsea\"\n",
    "person"
   ]
  },
  {
   "cell_type": "code",
   "execution_count": 31,
   "id": "9971dfae",
   "metadata": {},
   "outputs": [
    {
     "data": {
      "text/plain": [
       "{'name': 'Achy',\n",
       " 'age': 82,\n",
       " 'height': 154,\n",
       " 'isMale': True,\n",
       " 'Club': 'Chelsea',\n",
       " 'hobbies': ['soccer', 'video games', 'swimming']}"
      ]
     },
     "execution_count": 31,
     "metadata": {},
     "output_type": "execute_result"
    }
   ],
   "source": [
    "person[\"hobbies\"] = [\"soccer\", \"video games\", \"swimming\"]\n",
    "person"
   ]
  },
  {
   "cell_type": "code",
   "execution_count": 33,
   "id": "40a298fe",
   "metadata": {},
   "outputs": [],
   "source": [
    "person[\"address\"] = {\n",
    "    \"city\": \"Kumasi\",\n",
    "    \"country\": \"Ghana\"\n",
    "}"
   ]
  },
  {
   "cell_type": "code",
   "execution_count": 34,
   "id": "a6e5279c",
   "metadata": {},
   "outputs": [
    {
     "data": {
      "text/plain": [
       "{'name': 'Achy',\n",
       " 'age': 82,\n",
       " 'height': 154,\n",
       " 'isMale': True,\n",
       " 'Club': 'Chelsea',\n",
       " 'hobbies': ['soccer', 'video games', 'swimming'],\n",
       " 'address': {'city': 'Kumasi', 'country': 'Ghana'}}"
      ]
     },
     "execution_count": 34,
     "metadata": {},
     "output_type": "execute_result"
    }
   ],
   "source": [
    "person"
   ]
  },
  {
   "cell_type": "code",
   "execution_count": 35,
   "id": "ed8cc35c",
   "metadata": {},
   "outputs": [
    {
     "data": {
      "text/plain": [
       "{'name': 'Achy',\n",
       " 'age': 82,\n",
       " 'height': 154,\n",
       " 'isMale': True,\n",
       " 'Club': 'Chelsea',\n",
       " 'hobbies': ['soccer', 'video games', 'swimming'],\n",
       " 'address': {'city': 'Kumasi', 'country': 'Ghana'},\n",
       " 'cordinates': (-1.423, 50.224)}"
      ]
     },
     "execution_count": 35,
     "metadata": {},
     "output_type": "execute_result"
    }
   ],
   "source": [
    "person[\"cordinates\"] = (-1.423, 50.224)\n",
    "person"
   ]
  },
  {
   "cell_type": "code",
   "execution_count": 37,
   "id": "78d1778d",
   "metadata": {},
   "outputs": [
    {
     "data": {
      "text/plain": [
       "'swimming'"
      ]
     },
     "execution_count": 37,
     "metadata": {},
     "output_type": "execute_result"
    }
   ],
   "source": [
    "person[\"hobbies\"][2]"
   ]
  },
  {
   "cell_type": "code",
   "execution_count": 40,
   "id": "b37d46e5",
   "metadata": {},
   "outputs": [
    {
     "data": {
      "text/plain": [
       "'Ghana'"
      ]
     },
     "execution_count": 40,
     "metadata": {},
     "output_type": "execute_result"
    }
   ],
   "source": [
    "person[\"address\"][\"country\"]"
   ]
  },
  {
   "cell_type": "code",
   "execution_count": 41,
   "id": "88a45ae6",
   "metadata": {},
   "outputs": [
    {
     "data": {
      "text/plain": [
       "50.224"
      ]
     },
     "execution_count": 41,
     "metadata": {},
     "output_type": "execute_result"
    }
   ],
   "source": [
    "person[\"cordinates\"][1]"
   ]
  },
  {
   "cell_type": "code",
   "execution_count": 42,
   "id": "4d236013",
   "metadata": {},
   "outputs": [
    {
     "name": "stdout",
     "output_type": "stream",
     "text": [
      "What is your age?40\n"
     ]
    },
    {
     "data": {
      "text/plain": [
       "\"You'll be 41 next year\""
      ]
     },
     "execution_count": 42,
     "metadata": {},
     "output_type": "execute_result"
    }
   ],
   "source": [
    "# user inputs\n",
    "age = input(\"What is your age?\")\n",
    "age = int(age)\n",
    "statement = f\"You'll be {age + 1} next year\"\n",
    "statement"
   ]
  },
  {
   "cell_type": "code",
   "execution_count": 43,
   "id": "9d3ff1fc",
   "metadata": {},
   "outputs": [
    {
     "name": "stdout",
     "output_type": "stream",
     "text": [
      "What is your age?84\n"
     ]
    },
    {
     "data": {
      "text/plain": [
       "\"You'll be 85 next year\""
      ]
     },
     "execution_count": 43,
     "metadata": {},
     "output_type": "execute_result"
    }
   ],
   "source": [
    "age = int(input(\"What is your age?\"))\n",
    "statement = f\"You'll be {age + 1} next year\"\n",
    "statement"
   ]
  },
  {
   "cell_type": "code",
   "execution_count": 46,
   "id": "947dc12d",
   "metadata": {},
   "outputs": [
    {
     "name": "stdout",
     "output_type": "stream",
     "text": [
      "Enter Age12\n",
      "You are a minor\n"
     ]
    }
   ],
   "source": [
    "age = int(input(\"Enter Age\"))\n",
    "\n",
    "if age >= 21:\n",
    "    print(\"You can take alcohol\")\n",
    "elif age >= 18:\n",
    "    print(\"You can vote\")\n",
    "elif age >= 16:\n",
    "    print(\"You can drive\")\n",
    "else:\n",
    "    print(\"You are a minor\")"
   ]
  },
  {
   "cell_type": "code",
   "execution_count": 47,
   "id": "f7eb981b",
   "metadata": {},
   "outputs": [
    {
     "name": "stdout",
     "output_type": "stream",
     "text": [
      "0\n",
      "1\n",
      "2\n",
      "3\n",
      "4\n",
      "5\n",
      "6\n",
      "7\n",
      "8\n",
      "9\n",
      "10\n"
     ]
    }
   ],
   "source": [
    "# looping\n",
    "# while loop\n",
    "number = 0 \n",
    "while number <= 10:\n",
    "    print(number)\n",
    "    number += 1"
   ]
  },
  {
   "cell_type": "code",
   "execution_count": 50,
   "id": "dba77dd2",
   "metadata": {},
   "outputs": [
    {
     "name": "stdout",
     "output_type": "stream",
     "text": [
      "Enter multiplier6\n",
      "6 * 0 = 0\n",
      "6 * 1 = 6\n",
      "6 * 2 = 12\n",
      "6 * 3 = 18\n",
      "6 * 4 = 24\n",
      "6 * 5 = 30\n",
      "6 * 6 = 36\n",
      "6 * 7 = 42\n",
      "6 * 8 = 48\n",
      "6 * 9 = 54\n",
      "6 * 10 = 60\n",
      "6 * 11 = 66\n",
      "6 * 12 = 72\n"
     ]
    }
   ],
   "source": [
    "number = 0\n",
    "multiplier = int(input(\"Enter multiplier\"))\n",
    "\n",
    "while number <=12:\n",
    "    print(f\"{multiplier} * {number} = {multiplier * number}\")\n",
    "    number += 1"
   ]
  },
  {
   "cell_type": "code",
   "execution_count": 51,
   "id": "8219dffb",
   "metadata": {},
   "outputs": [
    {
     "name": "stdout",
     "output_type": "stream",
     "text": [
      "Enter multiplier12\n",
      "12 * 0 = 0\n",
      "12 * 1 = 12\n",
      "12 * 2 = 24\n",
      "12 * 3 = 36\n",
      "12 * 4 = 48\n",
      "12 * 5 = 60\n",
      "12 * 6 = 72\n",
      "12 * 7 = 84\n",
      "12 * 8 = 96\n",
      "12 * 9 = 108\n",
      "12 * 10 = 120\n",
      "12 * 11 = 132\n",
      "12 * 12 = 144\n",
      "12 * 13 = 156\n",
      "12 * 14 = 168\n",
      "12 * 15 = 180\n",
      "12 * 16 = 192\n",
      "12 * 17 = 204\n",
      "12 * 18 = 216\n",
      "12 * 19 = 228\n"
     ]
    }
   ],
   "source": [
    "number = 0\n",
    "multiplier = int(input(\"Enter multiplier\"))\n",
    "# exit_number = int(input(\"Enter exit number\"))\n",
    "\n",
    "while number <=50:\n",
    "    print(f\"{multiplier} * {number} = {multiplier * number}\")\n",
    "    number += 1\n",
    "    if(number == 20):\n",
    "        break"
   ]
  },
  {
   "cell_type": "code",
   "execution_count": 56,
   "id": "cc17d8e4",
   "metadata": {},
   "outputs": [
    {
     "name": "stdout",
     "output_type": "stream",
     "text": [
      "Enter multiplier5\n"
     ]
    },
    {
     "data": {
      "text/plain": [
       "[0, 5, 10, 15, 20, 25, 30, 35, 40, 45, 50, 55, 60]"
      ]
     },
     "execution_count": 56,
     "metadata": {},
     "output_type": "execute_result"
    }
   ],
   "source": [
    "number = 0\n",
    "multiplier = int(input(\"Enter multiplier\"))\n",
    "prods = []\n",
    "\n",
    "while number <=12:\n",
    "    prod = multiplier * number \n",
    "    prods.append(prod)\n",
    "    # print(f\"{multiplier} * {number} = {multiplier * number}\")\n",
    "    number += 1\n",
    "\n",
    "prods"
   ]
  },
  {
   "cell_type": "code",
   "execution_count": null,
   "id": "ba91d7ea",
   "metadata": {},
   "outputs": [],
   "source": []
  },
  {
   "cell_type": "code",
   "execution_count": null,
   "id": "293b8421",
   "metadata": {},
   "outputs": [],
   "source": [
    "# functions\n",
    "# series of related codes\n",
    "# reusable\n",
    "\n",
    "def function_name(parameters):\n",
    "    body"
   ]
  },
  {
   "cell_type": "code",
   "execution_count": 1,
   "id": "57d4cb49",
   "metadata": {},
   "outputs": [],
   "source": [
    "def greet():\n",
    "    print(\"Welcome!\")"
   ]
  },
  {
   "cell_type": "code",
   "execution_count": 2,
   "id": "8efd73d3",
   "metadata": {},
   "outputs": [
    {
     "name": "stdout",
     "output_type": "stream",
     "text": [
      "Welcome!\n"
     ]
    }
   ],
   "source": [
    "# calling the function\n",
    "# functionn_name(arguments)\n",
    "\n",
    "greet()"
   ]
  },
  {
   "cell_type": "code",
   "execution_count": 4,
   "id": "f8578bd1",
   "metadata": {},
   "outputs": [],
   "source": [
    "def greet_user(username):\n",
    "    print(f\"Welcome {username}\")"
   ]
  },
  {
   "cell_type": "code",
   "execution_count": 5,
   "id": "36d9cedf",
   "metadata": {},
   "outputs": [
    {
     "name": "stdout",
     "output_type": "stream",
     "text": [
      "Welcome Ben\n"
     ]
    }
   ],
   "source": [
    "greet_user(\"Ben\")"
   ]
  },
  {
   "cell_type": "code",
   "execution_count": 6,
   "id": "77873035",
   "metadata": {},
   "outputs": [
    {
     "name": "stdout",
     "output_type": "stream",
     "text": [
      "Welcome Jeff\n"
     ]
    }
   ],
   "source": [
    "greet_user(\"Jeff\")"
   ]
  },
  {
   "cell_type": "code",
   "execution_count": 7,
   "id": "12201603",
   "metadata": {},
   "outputs": [],
   "source": [
    "def power(a, b):\n",
    "    print(a ** b)"
   ]
  },
  {
   "cell_type": "code",
   "execution_count": 8,
   "id": "6610d8dd",
   "metadata": {},
   "outputs": [
    {
     "name": "stdout",
     "output_type": "stream",
     "text": [
      "16\n"
     ]
    }
   ],
   "source": [
    "power(2, 4)"
   ]
  },
  {
   "cell_type": "code",
   "execution_count": 10,
   "id": "087d5549",
   "metadata": {},
   "outputs": [
    {
     "name": "stdout",
     "output_type": "stream",
     "text": [
      "243\n"
     ]
    }
   ],
   "source": [
    "power(3, 5)"
   ]
  },
  {
   "cell_type": "code",
   "execution_count": 11,
   "id": "913b0dbe",
   "metadata": {},
   "outputs": [],
   "source": [
    "def future_value(r, pv, t):\n",
    "    print(pv * (1 + r) ** t)\n"
   ]
  },
  {
   "cell_type": "code",
   "execution_count": 12,
   "id": "458bdd87",
   "metadata": {},
   "outputs": [
    {
     "name": "stdout",
     "output_type": "stream",
     "text": [
      "115.76250000000002\n"
     ]
    }
   ],
   "source": [
    "future_value(0.05, 100, 3)"
   ]
  },
  {
   "cell_type": "code",
   "execution_count": 13,
   "id": "05cd3704",
   "metadata": {},
   "outputs": [],
   "source": [
    "def power(a, b=2):\n",
    "    print(a ** b)"
   ]
  },
  {
   "cell_type": "code",
   "execution_count": 14,
   "id": "3dd740e1",
   "metadata": {},
   "outputs": [
    {
     "name": "stdout",
     "output_type": "stream",
     "text": [
      "100\n"
     ]
    }
   ],
   "source": [
    "power(10)"
   ]
  },
  {
   "cell_type": "code",
   "execution_count": 15,
   "id": "14b18ee3",
   "metadata": {},
   "outputs": [
    {
     "name": "stdout",
     "output_type": "stream",
     "text": [
      "1000\n"
     ]
    }
   ],
   "source": [
    "power(10, 3)"
   ]
  },
  {
   "cell_type": "code",
   "execution_count": 16,
   "id": "22373394",
   "metadata": {},
   "outputs": [],
   "source": [
    "# return\n",
    "def cube(n):\n",
    "    return n** 3"
   ]
  },
  {
   "cell_type": "code",
   "execution_count": 17,
   "id": "bb367382",
   "metadata": {},
   "outputs": [
    {
     "name": "stdout",
     "output_type": "stream",
     "text": [
      "3375\n"
     ]
    }
   ],
   "source": [
    "print(cube(15))"
   ]
  },
  {
   "cell_type": "code",
   "execution_count": 18,
   "id": "0a5fd34e",
   "metadata": {},
   "outputs": [
    {
     "data": {
      "text/plain": [
       "125"
      ]
     },
     "execution_count": 18,
     "metadata": {},
     "output_type": "execute_result"
    }
   ],
   "source": [
    "cube(5)"
   ]
  },
  {
   "cell_type": "code",
   "execution_count": 19,
   "id": "e66c90b0",
   "metadata": {},
   "outputs": [],
   "source": [
    "stats = range(0, 201)"
   ]
  },
  {
   "cell_type": "code",
   "execution_count": 20,
   "id": "1d7e6ac7",
   "metadata": {},
   "outputs": [],
   "source": [
    "def list_range(values):\n",
    "    return max(values), min(values)"
   ]
  },
  {
   "cell_type": "code",
   "execution_count": 21,
   "id": "1055652d",
   "metadata": {},
   "outputs": [
    {
     "data": {
      "text/plain": [
       "(124, 3)"
      ]
     },
     "execution_count": 21,
     "metadata": {},
     "output_type": "execute_result"
    }
   ],
   "source": [
    "list_range([45, 67, 22, 3, 76, 124, 68])"
   ]
  },
  {
   "cell_type": "code",
   "execution_count": 22,
   "id": "a6bf3f17",
   "metadata": {},
   "outputs": [
    {
     "data": {
      "text/plain": [
       "(200, 0)"
      ]
     },
     "execution_count": 22,
     "metadata": {},
     "output_type": "execute_result"
    }
   ],
   "source": [
    "list_range(stats)"
   ]
  },
  {
   "cell_type": "code",
   "execution_count": 26,
   "id": "7716b54f",
   "metadata": {},
   "outputs": [],
   "source": [
    "# recursive function\n",
    "def factorial(n):\n",
    "    if n <= 1:\n",
    "        return 1\n",
    "    else: \n",
    "        return n * factorial(n-1)"
   ]
  },
  {
   "cell_type": "code",
   "execution_count": 27,
   "id": "036c72b1",
   "metadata": {},
   "outputs": [
    {
     "data": {
      "text/plain": [
       "120"
      ]
     },
     "execution_count": 27,
     "metadata": {},
     "output_type": "execute_result"
    }
   ],
   "source": [
    "factorial(5)"
   ]
  },
  {
   "cell_type": "code",
   "execution_count": 29,
   "id": "8fa7f6c6",
   "metadata": {},
   "outputs": [],
   "source": [
    "# Anonymous function\n",
    "# function with no name\n",
    "# lambda function\n",
    "square = lambda x: x ** 2"
   ]
  },
  {
   "cell_type": "code",
   "execution_count": 30,
   "id": "983bdffa",
   "metadata": {},
   "outputs": [
    {
     "data": {
      "text/plain": [
       "4"
      ]
     },
     "execution_count": 30,
     "metadata": {},
     "output_type": "execute_result"
    }
   ],
   "source": [
    "square(2)"
   ]
  },
  {
   "cell_type": "code",
   "execution_count": 31,
   "id": "416e2813",
   "metadata": {},
   "outputs": [],
   "source": [
    "# sets\n",
    "numbers = set()"
   ]
  },
  {
   "cell_type": "code",
   "execution_count": 32,
   "id": "0f05e225",
   "metadata": {},
   "outputs": [
    {
     "data": {
      "text/plain": [
       "set()"
      ]
     },
     "execution_count": 32,
     "metadata": {},
     "output_type": "execute_result"
    }
   ],
   "source": [
    "numbers"
   ]
  },
  {
   "cell_type": "code",
   "execution_count": 33,
   "id": "68ae11af",
   "metadata": {},
   "outputs": [
    {
     "data": {
      "text/plain": [
       "{2, 3, 4, 5, 6, 7}"
      ]
     },
     "execution_count": 33,
     "metadata": {},
     "output_type": "execute_result"
    }
   ],
   "source": [
    "nums = {2, 3, 4, 5, 6, 7}\n",
    "nums"
   ]
  },
  {
   "cell_type": "code",
   "execution_count": 34,
   "id": "7ad837c1",
   "metadata": {},
   "outputs": [
    {
     "data": {
      "text/plain": [
       "set"
      ]
     },
     "execution_count": 34,
     "metadata": {},
     "output_type": "execute_result"
    }
   ],
   "source": [
    "type(nums)"
   ]
  },
  {
   "cell_type": "code",
   "execution_count": 36,
   "id": "0c1f5162",
   "metadata": {},
   "outputs": [
    {
     "data": {
      "text/plain": [
       "{2}"
      ]
     },
     "execution_count": 36,
     "metadata": {},
     "output_type": "execute_result"
    }
   ],
   "source": [
    "numbers.add(2)\n",
    "numbers"
   ]
  },
  {
   "cell_type": "code",
   "execution_count": 37,
   "id": "0e6db9bf",
   "metadata": {},
   "outputs": [
    {
     "data": {
      "text/plain": [
       "{2, 6}"
      ]
     },
     "execution_count": 37,
     "metadata": {},
     "output_type": "execute_result"
    }
   ],
   "source": [
    "numbers.add(6)\n",
    "numbers"
   ]
  },
  {
   "cell_type": "code",
   "execution_count": 39,
   "id": "d11b0228",
   "metadata": {},
   "outputs": [
    {
     "data": {
      "text/plain": [
       "{2, 3, 4, 5, 6, 7, 44}"
      ]
     },
     "execution_count": 39,
     "metadata": {},
     "output_type": "execute_result"
    }
   ],
   "source": [
    "nums.add(44)\n",
    "nums"
   ]
  },
  {
   "cell_type": "code",
   "execution_count": 41,
   "id": "8cb225b9",
   "metadata": {},
   "outputs": [
    {
     "data": {
      "text/plain": [
       "{2, 3, 4, 5, 6, 7, 44}"
      ]
     },
     "execution_count": 41,
     "metadata": {},
     "output_type": "execute_result"
    }
   ],
   "source": [
    "# union\n",
    "\n",
    "numbers | nums"
   ]
  },
  {
   "cell_type": "code",
   "execution_count": 42,
   "id": "f68e33f8",
   "metadata": {},
   "outputs": [
    {
     "data": {
      "text/plain": [
       "{2, 6}"
      ]
     },
     "execution_count": 42,
     "metadata": {},
     "output_type": "execute_result"
    }
   ],
   "source": [
    "nums.intersection(numbers)"
   ]
  },
  {
   "cell_type": "code",
   "execution_count": 43,
   "id": "01d2e0d4",
   "metadata": {},
   "outputs": [
    {
     "data": {
      "text/plain": [
       "{2, 3, 4, 5, 6, 7, 44}"
      ]
     },
     "execution_count": 43,
     "metadata": {},
     "output_type": "execute_result"
    }
   ],
   "source": [
    "nums.union(numbers)"
   ]
  },
  {
   "cell_type": "code",
   "execution_count": 44,
   "id": "d84a9ac9",
   "metadata": {},
   "outputs": [
    {
     "data": {
      "text/plain": [
       "False"
      ]
     },
     "execution_count": 44,
     "metadata": {},
     "output_type": "execute_result"
    }
   ],
   "source": [
    "nums.isdisjoint(numbers)"
   ]
  },
  {
   "cell_type": "code",
   "execution_count": 45,
   "id": "615a26fe",
   "metadata": {},
   "outputs": [
    {
     "data": {
      "text/plain": [
       "[1, 2, 3, 6, 9, 15, 5, 2, 3, 7, 9, 23]"
      ]
     },
     "execution_count": 45,
     "metadata": {},
     "output_type": "execute_result"
    }
   ],
   "source": [
    "a = [1, 2, 3, 6, 9, 15]\n",
    "b = [5, 2, 3, 7, 9, 23]\n",
    "a + b"
   ]
  },
  {
   "cell_type": "code",
   "execution_count": 46,
   "id": "17c4a61f",
   "metadata": {},
   "outputs": [
    {
     "data": {
      "text/plain": [
       "[1, 2, 3, 6, 9, 15]"
      ]
     },
     "execution_count": 46,
     "metadata": {},
     "output_type": "execute_result"
    }
   ],
   "source": [
    "a"
   ]
  },
  {
   "cell_type": "code",
   "execution_count": 50,
   "id": "e516c41a",
   "metadata": {},
   "outputs": [
    {
     "data": {
      "text/plain": [
       "['Accra', 'Kumasi', 'Tema', 'Tamale', 'Sunyani', 'Obuasi']"
      ]
     },
     "execution_count": 50,
     "metadata": {},
     "output_type": "execute_result"
    }
   ],
   "source": [
    "old_cities = [\"Accra\", \"Kumasi\", \"Tema\"]\n",
    "new_cities = [\"Tamale\", \"Sunyani\", \"Obuasi\"]\n",
    "old_cities + new_cities"
   ]
  },
  {
   "cell_type": "code",
   "execution_count": 51,
   "id": "8525b0b6",
   "metadata": {},
   "outputs": [
    {
     "data": {
      "text/plain": [
       "['Accra', 'Kumasi', 'Tema', 'Tamale', 'Sunyani', 'Obuasi']"
      ]
     },
     "execution_count": 51,
     "metadata": {},
     "output_type": "execute_result"
    }
   ],
   "source": [
    "old_cities.extend(new_cities)\n",
    "old_cities"
   ]
  },
  {
   "cell_type": "code",
   "execution_count": 52,
   "id": "54586e49",
   "metadata": {},
   "outputs": [
    {
     "data": {
      "text/plain": [
       "2550"
      ]
     },
     "execution_count": 52,
     "metadata": {},
     "output_type": "execute_result"
    }
   ],
   "source": [
    "# list comprehension\n",
    "ages = range(0, 101, 2)\n",
    "\n",
    "sum(ages)"
   ]
  },
  {
   "cell_type": "code",
   "execution_count": 55,
   "id": "72c022b1",
   "metadata": {},
   "outputs": [],
   "source": [
    "nums = range(0, 101)\n",
    "# find the sum of the numbers from 51 to 100"
   ]
  },
  {
   "cell_type": "code",
   "execution_count": null,
   "id": "ccbefa86",
   "metadata": {},
   "outputs": [],
   "source": []
  },
  {
   "cell_type": "code",
   "execution_count": 53,
   "id": "43ca26d0",
   "metadata": {},
   "outputs": [
    {
     "data": {
      "text/plain": [
       "3775"
      ]
     },
     "execution_count": 53,
     "metadata": {},
     "output_type": "execute_result"
    }
   ],
   "source": [
    "value = range(51, 101)\n",
    "sum(value)"
   ]
  },
  {
   "cell_type": "code",
   "execution_count": 57,
   "id": "4a3c6dfa",
   "metadata": {},
   "outputs": [
    {
     "data": {
      "text/plain": [
       "3775"
      ]
     },
     "execution_count": 57,
     "metadata": {},
     "output_type": "execute_result"
    }
   ],
   "source": [
    "values = []\n",
    "\n",
    "for n in nums:\n",
    "    if n > 50:\n",
    "        values.append(n)\n",
    "\n",
    "sum(values)"
   ]
  },
  {
   "cell_type": "code",
   "execution_count": 60,
   "id": "b4ad6815",
   "metadata": {},
   "outputs": [
    {
     "data": {
      "text/plain": [
       "3775"
      ]
     },
     "execution_count": 60,
     "metadata": {},
     "output_type": "execute_result"
    }
   ],
   "source": [
    "sum([n for n in nums if n > 50])"
   ]
  },
  {
   "cell_type": "code",
   "execution_count": 61,
   "id": "7e2d0956",
   "metadata": {},
   "outputs": [
    {
     "data": {
      "text/plain": [
       "[0,\n",
       " 5,\n",
       " 10,\n",
       " 15,\n",
       " 20,\n",
       " 25,\n",
       " 30,\n",
       " 35,\n",
       " 40,\n",
       " 45,\n",
       " 50,\n",
       " 55,\n",
       " 60,\n",
       " 65,\n",
       " 70,\n",
       " 75,\n",
       " 80,\n",
       " 85,\n",
       " 90,\n",
       " 95,\n",
       " 100]"
      ]
     },
     "execution_count": 61,
     "metadata": {},
     "output_type": "execute_result"
    }
   ],
   "source": [
    "[n for n in nums if n % 5 == 0]"
   ]
  },
  {
   "cell_type": "code",
   "execution_count": 62,
   "id": "d440c705",
   "metadata": {},
   "outputs": [
    {
     "name": "stdout",
     "output_type": "stream",
     "text": [
      "0 nissan\n",
      "1 audi\n",
      "2 ford\n"
     ]
    }
   ],
   "source": [
    "# enumeration \n",
    "\n",
    "for position, item in enumerate([\"nissan\", \"audi\", \"ford\"]):\n",
    "    print(position, item)"
   ]
  },
  {
   "cell_type": "code",
   "execution_count": 63,
   "id": "b669d01c",
   "metadata": {},
   "outputs": [
    {
     "name": "stdout",
     "output_type": "stream",
     "text": [
      "0 Chelsea\n",
      "1 Kotoko\n",
      "2 AC Milan\n"
     ]
    }
   ],
   "source": [
    "for x, y in enumerate([\"Chelsea\", \"Kotoko\", \"AC Milan\"]):\n",
    "    print(x, y)"
   ]
  },
  {
   "cell_type": "code",
   "execution_count": 64,
   "id": "3da49caa",
   "metadata": {},
   "outputs": [
    {
     "name": "stdout",
     "output_type": "stream",
     "text": [
      "0 Chelsea\n",
      "1 Kotoko\n",
      "2 AC Milan\n"
     ]
    }
   ],
   "source": [
    "Clubs = [\"Chelsea\", \"Kotoko\", \"AC Milan\"]\n",
    "for x, y in enumerate(Clubs):\n",
    "    print(x, y)"
   ]
  },
  {
   "cell_type": "code",
   "execution_count": 71,
   "id": "52e2c4ee",
   "metadata": {},
   "outputs": [],
   "source": [
    "names = [\"Ben\", \"Acheampong\", \"Osei\", \"Kwame\"]\n",
    "ages = [30, 27, 32, 35]"
   ]
  },
  {
   "cell_type": "code",
   "execution_count": 72,
   "id": "69133a83",
   "metadata": {},
   "outputs": [
    {
     "name": "stdout",
     "output_type": "stream",
     "text": [
      "Ben 30\n",
      "Acheampong 27\n",
      "Osei 32\n",
      "Kwame 35\n"
     ]
    }
   ],
   "source": [
    "names = [\"Ben\", \"Acheampong\", \"Osei\", \"Kwame\"]\n",
    "ages = [30, 27, 32, 35]\n",
    "# zip\n",
    "for name, age in zip(names, ages):\n",
    "    print(name, age)"
   ]
  },
  {
   "cell_type": "code",
   "execution_count": 73,
   "id": "653f4f23",
   "metadata": {},
   "outputs": [
    {
     "data": {
      "text/plain": [
       "[('Ben', 30), ('Acheampong', 27), ('Osei', 32), ('Kwame', 35)]"
      ]
     },
     "execution_count": 73,
     "metadata": {},
     "output_type": "execute_result"
    }
   ],
   "source": [
    "list(zip(names, ages))"
   ]
  },
  {
   "cell_type": "code",
   "execution_count": null,
   "id": "a4eeda3b",
   "metadata": {},
   "outputs": [],
   "source": []
  },
  {
   "cell_type": "code",
   "execution_count": null,
   "id": "cb86b22e",
   "metadata": {},
   "outputs": [],
   "source": []
  },
  {
   "cell_type": "code",
   "execution_count": null,
   "id": "39f23a4c",
   "metadata": {},
   "outputs": [],
   "source": []
  },
  {
   "cell_type": "code",
   "execution_count": null,
   "id": "6ab874a8",
   "metadata": {},
   "outputs": [],
   "source": []
  },
  {
   "cell_type": "code",
   "execution_count": null,
   "id": "19506c29",
   "metadata": {},
   "outputs": [],
   "source": []
  },
  {
   "cell_type": "code",
   "execution_count": null,
   "id": "2db6e039",
   "metadata": {},
   "outputs": [],
   "source": []
  },
  {
   "cell_type": "code",
   "execution_count": null,
   "id": "0bb7b9b8",
   "metadata": {},
   "outputs": [],
   "source": []
  },
  {
   "cell_type": "code",
   "execution_count": null,
   "id": "6ac4594b",
   "metadata": {},
   "outputs": [],
   "source": []
  },
  {
   "cell_type": "code",
   "execution_count": null,
   "id": "756950dd",
   "metadata": {},
   "outputs": [],
   "source": []
  },
  {
   "cell_type": "code",
   "execution_count": null,
   "id": "3f47e6a5",
   "metadata": {},
   "outputs": [],
   "source": []
  },
  {
   "cell_type": "code",
   "execution_count": null,
   "id": "4c9b635d",
   "metadata": {},
   "outputs": [],
   "source": []
  },
  {
   "cell_type": "code",
   "execution_count": null,
   "id": "2879d3b4",
   "metadata": {},
   "outputs": [],
   "source": []
  },
  {
   "cell_type": "code",
   "execution_count": null,
   "id": "2b2afdf0",
   "metadata": {},
   "outputs": [],
   "source": []
  },
  {
   "cell_type": "code",
   "execution_count": null,
   "id": "e97a9ebd",
   "metadata": {},
   "outputs": [],
   "source": []
  },
  {
   "cell_type": "code",
   "execution_count": null,
   "id": "c54bc214",
   "metadata": {},
   "outputs": [],
   "source": []
  },
  {
   "cell_type": "code",
   "execution_count": null,
   "id": "4cf6acdb",
   "metadata": {},
   "outputs": [],
   "source": []
  },
  {
   "cell_type": "code",
   "execution_count": null,
   "id": "4a24e05c",
   "metadata": {},
   "outputs": [],
   "source": []
  },
  {
   "cell_type": "code",
   "execution_count": null,
   "id": "c75ab558",
   "metadata": {},
   "outputs": [],
   "source": []
  },
  {
   "cell_type": "code",
   "execution_count": null,
   "id": "d519da62",
   "metadata": {},
   "outputs": [],
   "source": []
  },
  {
   "cell_type": "code",
   "execution_count": null,
   "id": "e1946c67",
   "metadata": {},
   "outputs": [],
   "source": []
  },
  {
   "cell_type": "code",
   "execution_count": null,
   "id": "82017424",
   "metadata": {},
   "outputs": [],
   "source": []
  },
  {
   "cell_type": "code",
   "execution_count": null,
   "id": "d7e59d87",
   "metadata": {},
   "outputs": [],
   "source": []
  },
  {
   "cell_type": "code",
   "execution_count": null,
   "id": "aadc3f2c",
   "metadata": {},
   "outputs": [],
   "source": []
  },
  {
   "cell_type": "code",
   "execution_count": null,
   "id": "f82fa0e3",
   "metadata": {},
   "outputs": [],
   "source": []
  },
  {
   "cell_type": "code",
   "execution_count": null,
   "id": "ef937811",
   "metadata": {},
   "outputs": [],
   "source": []
  }
 ],
 "metadata": {
  "kernelspec": {
   "display_name": "Python 3 (ipykernel)",
   "language": "python",
   "name": "python3"
  },
  "language_info": {
   "codemirror_mode": {
    "name": "ipython",
    "version": 3
   },
   "file_extension": ".py",
   "mimetype": "text/x-python",
   "name": "python",
   "nbconvert_exporter": "python",
   "pygments_lexer": "ipython3",
   "version": "3.11.4"
  }
 },
 "nbformat": 4,
 "nbformat_minor": 5
}
