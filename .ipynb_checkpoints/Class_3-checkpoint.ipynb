{
 "cells": [
  {
   "cell_type": "code",
   "execution_count": 1,
   "id": "8202860d",
   "metadata": {},
   "outputs": [
    {
     "data": {
      "text/plain": [
       "[0, 1, 2, 3, 4, 5, 6, 7, 8, 9, 10]"
      ]
     },
     "execution_count": 1,
     "metadata": {},
     "output_type": "execute_result"
    }
   ],
   "source": [
    "nums = [0, 1, 2, 3, 4, 5, 6, 7, 8, 9, 10]\n",
    "nums"
   ]
  },
  {
   "cell_type": "code",
   "execution_count": 2,
   "id": "155bc547",
   "metadata": {},
   "outputs": [],
   "source": [
    "nums_copy = nums"
   ]
  },
  {
   "cell_type": "code",
   "execution_count": 3,
   "id": "9a390b44",
   "metadata": {},
   "outputs": [
    {
     "data": {
      "text/plain": [
       "[0, 1, 2, 3, 4, 5, 6, 7, 8, 9, 10]"
      ]
     },
     "execution_count": 3,
     "metadata": {},
     "output_type": "execute_result"
    }
   ],
   "source": [
    "nums_copy"
   ]
  },
  {
   "cell_type": "code",
   "execution_count": 4,
   "id": "6394aff0",
   "metadata": {},
   "outputs": [
    {
     "data": {
      "text/plain": [
       "[0, 1, 2, 3, 4, 5, 6, 7, 8, 9, 10, 11]"
      ]
     },
     "execution_count": 4,
     "metadata": {},
     "output_type": "execute_result"
    }
   ],
   "source": [
    "nums_copy.append(11)\n",
    "nums_copy"
   ]
  },
  {
   "cell_type": "code",
   "execution_count": 5,
   "id": "c5722a65",
   "metadata": {},
   "outputs": [
    {
     "data": {
      "text/plain": [
       "[0, 1, 2, 3, 4, 5, 6, 7, 8, 9, 10, 11]"
      ]
     },
     "execution_count": 5,
     "metadata": {},
     "output_type": "execute_result"
    }
   ],
   "source": [
    "nums"
   ]
  },
  {
   "cell_type": "code",
   "execution_count": 6,
   "id": "0949a231",
   "metadata": {},
   "outputs": [
    {
     "data": {
      "text/plain": [
       "[0, 1, 2, 3, 4, 5, 6, 7, 8, 9, 10, 11]"
      ]
     },
     "execution_count": 6,
     "metadata": {},
     "output_type": "execute_result"
    }
   ],
   "source": [
    "nums_copy_right = nums[:]\n",
    "nums_copy_right"
   ]
  },
  {
   "cell_type": "code",
   "execution_count": 7,
   "id": "56e036c4",
   "metadata": {},
   "outputs": [
    {
     "data": {
      "text/plain": [
       "[0, 1, 2, 3, 4, 5, 6, 7, 8, 9, 10, 11, 12]"
      ]
     },
     "execution_count": 7,
     "metadata": {},
     "output_type": "execute_result"
    }
   ],
   "source": [
    "nums_copy_right.append(12)\n",
    "nums_copy_right"
   ]
  },
  {
   "cell_type": "code",
   "execution_count": 8,
   "id": "8f3f39f6",
   "metadata": {},
   "outputs": [
    {
     "data": {
      "text/plain": [
       "[0, 1, 2, 3, 4, 5, 6, 7, 8, 9, 10, 11]"
      ]
     },
     "execution_count": 8,
     "metadata": {},
     "output_type": "execute_result"
    }
   ],
   "source": [
    "nums"
   ]
  },
  {
   "cell_type": "code",
   "execution_count": 9,
   "id": "e698a5fe",
   "metadata": {},
   "outputs": [
    {
     "data": {
      "text/plain": [
       "(12, 15)"
      ]
     },
     "execution_count": 9,
     "metadata": {},
     "output_type": "execute_result"
    }
   ],
   "source": [
    "# Tuple  is like a list but can't be modified \n",
    "\n",
    "ages = (12, 15)\n",
    "ages"
   ]
  },
  {
   "cell_type": "code",
   "execution_count": 10,
   "id": "f61d137c",
   "metadata": {},
   "outputs": [
    {
     "data": {
      "text/plain": [
       "15"
      ]
     },
     "execution_count": 10,
     "metadata": {},
     "output_type": "execute_result"
    }
   ],
   "source": [
    "ages[1]"
   ]
  },
  {
   "cell_type": "code",
   "execution_count": 11,
   "id": "f910ea96",
   "metadata": {},
   "outputs": [
    {
     "data": {
      "text/plain": [
       "tuple"
      ]
     },
     "execution_count": 11,
     "metadata": {},
     "output_type": "execute_result"
    }
   ],
   "source": [
    "type(ages)"
   ]
  },
  {
   "cell_type": "code",
   "execution_count": 12,
   "id": "8520f2da",
   "metadata": {},
   "outputs": [
    {
     "data": {
      "text/plain": [
       "list"
      ]
     },
     "execution_count": 12,
     "metadata": {},
     "output_type": "execute_result"
    }
   ],
   "source": [
    "type(nums)"
   ]
  },
  {
   "cell_type": "code",
   "execution_count": 13,
   "id": "2d78508f",
   "metadata": {},
   "outputs": [
    {
     "data": {
      "text/plain": [
       "tuple"
      ]
     },
     "execution_count": 13,
     "metadata": {},
     "output_type": "execute_result"
    }
   ],
   "source": [
    "brands = \"Nokia\", \"Samsung\",\n",
    "type(brands)"
   ]
  },
  {
   "cell_type": "code",
   "execution_count": 14,
   "id": "58e4344d",
   "metadata": {},
   "outputs": [
    {
     "data": {
      "text/plain": [
       "tuple"
      ]
     },
     "execution_count": 14,
     "metadata": {},
     "output_type": "execute_result"
    }
   ],
   "source": [
    "tvs = \"LG\",\n",
    "type(tvs)"
   ]
  },
  {
   "cell_type": "code",
   "execution_count": 15,
   "id": "ff24d70d",
   "metadata": {},
   "outputs": [
    {
     "data": {
      "text/plain": [
       "['LG']"
      ]
     },
     "execution_count": 15,
     "metadata": {},
     "output_type": "execute_result"
    }
   ],
   "source": [
    "tvs = list(tvs)\n",
    "tvs"
   ]
  },
  {
   "cell_type": "code",
   "execution_count": 22,
   "id": "04324457",
   "metadata": {},
   "outputs": [],
   "source": [
    "# dictionaries \n",
    "\n",
    "# key -> value pairs"
   ]
  },
  {
   "cell_type": "code",
   "execution_count": 21,
   "id": "44782231",
   "metadata": {},
   "outputs": [],
   "source": [
    "person ={\n",
    "    \"name\": \"Achy\",\n",
    "    \"age\": 82,\n",
    "    \"height\": 154,\n",
    "    \"isMale\": True\n",
    "}"
   ]
  },
  {
   "cell_type": "code",
   "execution_count": 23,
   "id": "2c75a228",
   "metadata": {},
   "outputs": [
    {
     "data": {
      "text/plain": [
       "{'name': 'Achy', 'age': 82, 'height': 154, 'isMale': True}"
      ]
     },
     "execution_count": 23,
     "metadata": {},
     "output_type": "execute_result"
    }
   ],
   "source": [
    "person"
   ]
  },
  {
   "cell_type": "code",
   "execution_count": 24,
   "id": "3c97cab2",
   "metadata": {},
   "outputs": [
    {
     "name": "stdout",
     "output_type": "stream",
     "text": [
      "name Achy\n",
      "age 82\n",
      "height 154\n",
      "isMale True\n"
     ]
    }
   ],
   "source": [
    "for key, value in person.items():\n",
    "    print(key, value)"
   ]
  },
  {
   "cell_type": "code",
   "execution_count": 25,
   "id": "601244fa",
   "metadata": {},
   "outputs": [
    {
     "name": "stdout",
     "output_type": "stream",
     "text": [
      "name\n",
      "age\n",
      "height\n",
      "isMale\n"
     ]
    }
   ],
   "source": [
    "for key in person.keys():\n",
    "    print(key)"
   ]
  },
  {
   "cell_type": "code",
   "execution_count": 26,
   "id": "2abec090",
   "metadata": {},
   "outputs": [
    {
     "name": "stdout",
     "output_type": "stream",
     "text": [
      "Achy\n",
      "82\n",
      "154\n",
      "True\n"
     ]
    }
   ],
   "source": [
    "for value in person.values():\n",
    "    print(value)"
   ]
  },
  {
   "cell_type": "code",
   "execution_count": 28,
   "id": "5166e68a",
   "metadata": {},
   "outputs": [
    {
     "data": {
      "text/plain": [
       "82"
      ]
     },
     "execution_count": 28,
     "metadata": {},
     "output_type": "execute_result"
    }
   ],
   "source": [
    "person[\"age\"]"
   ]
  },
  {
   "cell_type": "code",
   "execution_count": 29,
   "id": "deacca4c",
   "metadata": {},
   "outputs": [
    {
     "data": {
      "text/plain": [
       "True"
      ]
     },
     "execution_count": 29,
     "metadata": {},
     "output_type": "execute_result"
    }
   ],
   "source": [
    "person[\"isMale\"]"
   ]
  },
  {
   "cell_type": "code",
   "execution_count": 30,
   "id": "57e18889",
   "metadata": {},
   "outputs": [
    {
     "data": {
      "text/plain": [
       "{'name': 'Achy', 'age': 82, 'height': 154, 'isMale': True, 'Club': 'Chelsea'}"
      ]
     },
     "execution_count": 30,
     "metadata": {},
     "output_type": "execute_result"
    }
   ],
   "source": [
    "person[\"Club\"] = \"Chelsea\"\n",
    "person"
   ]
  },
  {
   "cell_type": "code",
   "execution_count": 31,
   "id": "9971dfae",
   "metadata": {},
   "outputs": [
    {
     "data": {
      "text/plain": [
       "{'name': 'Achy',\n",
       " 'age': 82,\n",
       " 'height': 154,\n",
       " 'isMale': True,\n",
       " 'Club': 'Chelsea',\n",
       " 'hobbies': ['soccer', 'video games', 'swimming']}"
      ]
     },
     "execution_count": 31,
     "metadata": {},
     "output_type": "execute_result"
    }
   ],
   "source": [
    "person[\"hobbies\"] = [\"soccer\", \"video games\", \"swimming\"]\n",
    "person"
   ]
  },
  {
   "cell_type": "code",
   "execution_count": 33,
   "id": "40a298fe",
   "metadata": {},
   "outputs": [],
   "source": [
    "person[\"address\"] = {\n",
    "    \"city\": \"Kumasi\",\n",
    "    \"country\": \"Ghana\"\n",
    "}"
   ]
  },
  {
   "cell_type": "code",
   "execution_count": 34,
   "id": "a6e5279c",
   "metadata": {},
   "outputs": [
    {
     "data": {
      "text/plain": [
       "{'name': 'Achy',\n",
       " 'age': 82,\n",
       " 'height': 154,\n",
       " 'isMale': True,\n",
       " 'Club': 'Chelsea',\n",
       " 'hobbies': ['soccer', 'video games', 'swimming'],\n",
       " 'address': {'city': 'Kumasi', 'country': 'Ghana'}}"
      ]
     },
     "execution_count": 34,
     "metadata": {},
     "output_type": "execute_result"
    }
   ],
   "source": [
    "person"
   ]
  },
  {
   "cell_type": "code",
   "execution_count": 35,
   "id": "ed8cc35c",
   "metadata": {},
   "outputs": [
    {
     "data": {
      "text/plain": [
       "{'name': 'Achy',\n",
       " 'age': 82,\n",
       " 'height': 154,\n",
       " 'isMale': True,\n",
       " 'Club': 'Chelsea',\n",
       " 'hobbies': ['soccer', 'video games', 'swimming'],\n",
       " 'address': {'city': 'Kumasi', 'country': 'Ghana'},\n",
       " 'cordinates': (-1.423, 50.224)}"
      ]
     },
     "execution_count": 35,
     "metadata": {},
     "output_type": "execute_result"
    }
   ],
   "source": [
    "person[\"cordinates\"] = (-1.423, 50.224)\n",
    "person"
   ]
  },
  {
   "cell_type": "code",
   "execution_count": 37,
   "id": "78d1778d",
   "metadata": {},
   "outputs": [
    {
     "data": {
      "text/plain": [
       "'swimming'"
      ]
     },
     "execution_count": 37,
     "metadata": {},
     "output_type": "execute_result"
    }
   ],
   "source": [
    "person[\"hobbies\"][2]"
   ]
  },
  {
   "cell_type": "code",
   "execution_count": 40,
   "id": "b37d46e5",
   "metadata": {},
   "outputs": [
    {
     "data": {
      "text/plain": [
       "'Ghana'"
      ]
     },
     "execution_count": 40,
     "metadata": {},
     "output_type": "execute_result"
    }
   ],
   "source": [
    "person[\"address\"][\"country\"]"
   ]
  },
  {
   "cell_type": "code",
   "execution_count": 41,
   "id": "88a45ae6",
   "metadata": {},
   "outputs": [
    {
     "data": {
      "text/plain": [
       "50.224"
      ]
     },
     "execution_count": 41,
     "metadata": {},
     "output_type": "execute_result"
    }
   ],
   "source": [
    "person[\"cordinates\"][1]"
   ]
  },
  {
   "cell_type": "code",
   "execution_count": 42,
   "id": "4d236013",
   "metadata": {},
   "outputs": [
    {
     "name": "stdout",
     "output_type": "stream",
     "text": [
      "What is your age?40\n"
     ]
    },
    {
     "data": {
      "text/plain": [
       "\"You'll be 41 next year\""
      ]
     },
     "execution_count": 42,
     "metadata": {},
     "output_type": "execute_result"
    }
   ],
   "source": [
    "# user inputs\n",
    "age = input(\"What is your age?\")\n",
    "age = int(age)\n",
    "statement = f\"You'll be {age + 1} next year\"\n",
    "statement"
   ]
  },
  {
   "cell_type": "code",
   "execution_count": 43,
   "id": "9d3ff1fc",
   "metadata": {},
   "outputs": [
    {
     "name": "stdout",
     "output_type": "stream",
     "text": [
      "What is your age?84\n"
     ]
    },
    {
     "data": {
      "text/plain": [
       "\"You'll be 85 next year\""
      ]
     },
     "execution_count": 43,
     "metadata": {},
     "output_type": "execute_result"
    }
   ],
   "source": [
    "age = int(input(\"What is your age?\"))\n",
    "statement = f\"You'll be {age + 1} next year\"\n",
    "statement"
   ]
  },
  {
   "cell_type": "code",
   "execution_count": 46,
   "id": "947dc12d",
   "metadata": {},
   "outputs": [
    {
     "name": "stdout",
     "output_type": "stream",
     "text": [
      "Enter Age12\n",
      "You are a minor\n"
     ]
    }
   ],
   "source": [
    "age = int(input(\"Enter Age\"))\n",
    "\n",
    "if age >= 21:\n",
    "    print(\"You can take alcohol\")\n",
    "elif age >= 18:\n",
    "    print(\"You can vote\")\n",
    "elif age >= 16:\n",
    "    print(\"You can drive\")\n",
    "else:\n",
    "    print(\"You are a minor\")"
   ]
  },
  {
   "cell_type": "code",
   "execution_count": 47,
   "id": "f7eb981b",
   "metadata": {},
   "outputs": [
    {
     "name": "stdout",
     "output_type": "stream",
     "text": [
      "0\n",
      "1\n",
      "2\n",
      "3\n",
      "4\n",
      "5\n",
      "6\n",
      "7\n",
      "8\n",
      "9\n",
      "10\n"
     ]
    }
   ],
   "source": [
    "# looping\n",
    "# while loop\n",
    "number = 0 \n",
    "while number <= 10:\n",
    "    print(number)\n",
    "    number += 1"
   ]
  },
  {
   "cell_type": "code",
   "execution_count": 50,
   "id": "dba77dd2",
   "metadata": {},
   "outputs": [
    {
     "name": "stdout",
     "output_type": "stream",
     "text": [
      "Enter multiplier6\n",
      "6 * 0 = 0\n",
      "6 * 1 = 6\n",
      "6 * 2 = 12\n",
      "6 * 3 = 18\n",
      "6 * 4 = 24\n",
      "6 * 5 = 30\n",
      "6 * 6 = 36\n",
      "6 * 7 = 42\n",
      "6 * 8 = 48\n",
      "6 * 9 = 54\n",
      "6 * 10 = 60\n",
      "6 * 11 = 66\n",
      "6 * 12 = 72\n"
     ]
    }
   ],
   "source": [
    "number = 0\n",
    "multiplier = int(input(\"Enter multiplier\"))\n",
    "\n",
    "while number <=12:\n",
    "    print(f\"{multiplier} * {number} = {multiplier * number}\")\n",
    "    number += 1"
   ]
  },
  {
   "cell_type": "code",
   "execution_count": 51,
   "id": "8219dffb",
   "metadata": {},
   "outputs": [
    {
     "name": "stdout",
     "output_type": "stream",
     "text": [
      "Enter multiplier12\n",
      "12 * 0 = 0\n",
      "12 * 1 = 12\n",
      "12 * 2 = 24\n",
      "12 * 3 = 36\n",
      "12 * 4 = 48\n",
      "12 * 5 = 60\n",
      "12 * 6 = 72\n",
      "12 * 7 = 84\n",
      "12 * 8 = 96\n",
      "12 * 9 = 108\n",
      "12 * 10 = 120\n",
      "12 * 11 = 132\n",
      "12 * 12 = 144\n",
      "12 * 13 = 156\n",
      "12 * 14 = 168\n",
      "12 * 15 = 180\n",
      "12 * 16 = 192\n",
      "12 * 17 = 204\n",
      "12 * 18 = 216\n",
      "12 * 19 = 228\n"
     ]
    }
   ],
   "source": [
    "number = 0\n",
    "multiplier = int(input(\"Enter multiplier\"))\n",
    "# exit_number = int(input(\"Enter exit number\"))\n",
    "\n",
    "while number <=50:\n",
    "    print(f\"{multiplier} * {number} = {multiplier * number}\")\n",
    "    number += 1\n",
    "    if(number == 20):\n",
    "        break"
   ]
  },
  {
   "cell_type": "code",
   "execution_count": 56,
   "id": "cc17d8e4",
   "metadata": {},
   "outputs": [
    {
     "name": "stdout",
     "output_type": "stream",
     "text": [
      "Enter multiplier5\n"
     ]
    },
    {
     "data": {
      "text/plain": [
       "[0, 5, 10, 15, 20, 25, 30, 35, 40, 45, 50, 55, 60]"
      ]
     },
     "execution_count": 56,
     "metadata": {},
     "output_type": "execute_result"
    }
   ],
   "source": [
    "number = 0\n",
    "multiplier = int(input(\"Enter multiplier\"))\n",
    "prods = []\n",
    "\n",
    "while number <=12:\n",
    "    prod = multiplier * number \n",
    "    prods.append(prod)\n",
    "    # print(f\"{multiplier} * {number} = {multiplier * number}\")\n",
    "    number += 1\n",
    "\n",
    "prods"
   ]
  },
  {
   "cell_type": "code",
   "execution_count": null,
   "id": "ba91d7ea",
   "metadata": {},
   "outputs": [],
   "source": []
  },
  {
   "cell_type": "code",
   "execution_count": null,
   "id": "293b8421",
   "metadata": {},
   "outputs": [],
   "source": [
    "# functions\n",
    "# series of related codes\n",
    "# reusable\n",
    "\n",
    "def function_name(parameters):\n",
    "    body"
   ]
  },
  {
   "cell_type": "code",
   "execution_count": null,
   "id": "57d4cb49",
   "metadata": {},
   "outputs": [],
   "source": [
    "def greet():\n",
    "    print(\"Welcome\")"
   ]
  },
  {
   "cell_type": "code",
   "execution_count": null,
   "id": "4c9b635d",
   "metadata": {},
   "outputs": [],
   "source": []
  },
  {
   "cell_type": "code",
   "execution_count": null,
   "id": "2879d3b4",
   "metadata": {},
   "outputs": [],
   "source": []
  },
  {
   "cell_type": "code",
   "execution_count": null,
   "id": "2b2afdf0",
   "metadata": {},
   "outputs": [],
   "source": []
  },
  {
   "cell_type": "code",
   "execution_count": null,
   "id": "e97a9ebd",
   "metadata": {},
   "outputs": [],
   "source": []
  },
  {
   "cell_type": "code",
   "execution_count": null,
   "id": "c54bc214",
   "metadata": {},
   "outputs": [],
   "source": []
  },
  {
   "cell_type": "code",
   "execution_count": null,
   "id": "4cf6acdb",
   "metadata": {},
   "outputs": [],
   "source": []
  },
  {
   "cell_type": "code",
   "execution_count": null,
   "id": "4a24e05c",
   "metadata": {},
   "outputs": [],
   "source": []
  },
  {
   "cell_type": "code",
   "execution_count": null,
   "id": "c75ab558",
   "metadata": {},
   "outputs": [],
   "source": []
  },
  {
   "cell_type": "code",
   "execution_count": null,
   "id": "d519da62",
   "metadata": {},
   "outputs": [],
   "source": []
  },
  {
   "cell_type": "code",
   "execution_count": null,
   "id": "e1946c67",
   "metadata": {},
   "outputs": [],
   "source": []
  },
  {
   "cell_type": "code",
   "execution_count": null,
   "id": "82017424",
   "metadata": {},
   "outputs": [],
   "source": []
  },
  {
   "cell_type": "code",
   "execution_count": null,
   "id": "d7e59d87",
   "metadata": {},
   "outputs": [],
   "source": []
  },
  {
   "cell_type": "code",
   "execution_count": null,
   "id": "aadc3f2c",
   "metadata": {},
   "outputs": [],
   "source": []
  },
  {
   "cell_type": "code",
   "execution_count": null,
   "id": "f82fa0e3",
   "metadata": {},
   "outputs": [],
   "source": []
  },
  {
   "cell_type": "code",
   "execution_count": null,
   "id": "ef937811",
   "metadata": {},
   "outputs": [],
   "source": []
  }
 ],
 "metadata": {
  "kernelspec": {
   "display_name": "Python 3 (ipykernel)",
   "language": "python",
   "name": "python3"
  },
  "language_info": {
   "codemirror_mode": {
    "name": "ipython",
    "version": 3
   },
   "file_extension": ".py",
   "mimetype": "text/x-python",
   "name": "python",
   "nbconvert_exporter": "python",
   "pygments_lexer": "ipython3",
   "version": "3.11.4"
  }
 },
 "nbformat": 4,
 "nbformat_minor": 5
}
