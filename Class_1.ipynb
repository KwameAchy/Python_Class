{
 "cells": [
  {
   "cell_type": "code",
   "execution_count": 3,
   "id": "ef2a5969",
   "metadata": {},
   "outputs": [
    {
     "data": {
      "text/plain": [
       "'Kwame'"
      ]
     },
     "execution_count": 3,
     "metadata": {},
     "output_type": "execute_result"
    }
   ],
   "source": [
    "first_name = \"Kwame\"\n",
    "first_name"
   ]
  },
  {
   "cell_type": "code",
   "execution_count": 4,
   "id": "05728b44",
   "metadata": {},
   "outputs": [
    {
     "data": {
      "text/plain": [
       "['bmw', 'audi', 'ford', 'volvo', 'hyundai', 'kia', 'honda']"
      ]
     },
     "execution_count": 4,
     "metadata": {},
     "output_type": "execute_result"
    }
   ],
   "source": [
    "    # Lists\n",
    "    cars = [\"bmw\", \"audi\", \"ford\", \"volvo\", \"hyundai\", \"kia\", \"honda\"]\n",
    "    cars"
   ]
  },
  {
   "cell_type": "code",
   "execution_count": 5,
   "id": "18efd075",
   "metadata": {},
   "outputs": [
    {
     "data": {
      "text/plain": [
       "'volvo'"
      ]
     },
     "execution_count": 5,
     "metadata": {},
     "output_type": "execute_result"
    }
   ],
   "source": [
    "cars[3]"
   ]
  },
  {
   "cell_type": "code",
   "execution_count": 6,
   "id": "2a916e35",
   "metadata": {},
   "outputs": [
    {
     "data": {
      "text/plain": [
       "'bmw'"
      ]
     },
     "execution_count": 6,
     "metadata": {},
     "output_type": "execute_result"
    }
   ],
   "source": [
    "cars[0]"
   ]
  },
  {
   "cell_type": "code",
   "execution_count": 8,
   "id": "234ade2b",
   "metadata": {},
   "outputs": [
    {
     "data": {
      "text/plain": [
       "'honda'"
      ]
     },
     "execution_count": 8,
     "metadata": {},
     "output_type": "execute_result"
    }
   ],
   "source": [
    "cars[6]"
   ]
  },
  {
   "cell_type": "code",
   "execution_count": 9,
   "id": "7de3c243",
   "metadata": {},
   "outputs": [
    {
     "data": {
      "text/plain": [
       "7"
      ]
     },
     "execution_count": 9,
     "metadata": {},
     "output_type": "execute_result"
    }
   ],
   "source": [
    "len(cars)"
   ]
  },
  {
   "cell_type": "code",
   "execution_count": 10,
   "id": "903a3f90",
   "metadata": {},
   "outputs": [
    {
     "data": {
      "text/plain": [
       "'honda'"
      ]
     },
     "execution_count": 10,
     "metadata": {},
     "output_type": "execute_result"
    }
   ],
   "source": [
    "cars[-1]"
   ]
  },
  {
   "cell_type": "code",
   "execution_count": null,
   "id": "511b4b36",
   "metadata": {},
   "outputs": [],
   "source": []
  },
  {
   "cell_type": "code",
   "execution_count": null,
   "id": "ec363f94",
   "metadata": {},
   "outputs": [],
   "source": []
  },
  {
   "cell_type": "code",
   "execution_count": 11,
   "id": "614c656b",
   "metadata": {},
   "outputs": [
    {
     "data": {
      "text/plain": [
       "['bmw', 'audi', 'ford', 'volvo', 'hyundai', 'kia', 'honda']"
      ]
     },
     "execution_count": 11,
     "metadata": {},
     "output_type": "execute_result"
    }
   ],
   "source": [
    "# modify\n",
    "cars"
   ]
  },
  {
   "cell_type": "code",
   "execution_count": 13,
   "id": "6bbc57fe",
   "metadata": {},
   "outputs": [
    {
     "data": {
      "text/plain": [
       "['toyota', 'audi', 'ford', 'volvo', 'hyundai', 'kia', 'honda']"
      ]
     },
     "execution_count": 13,
     "metadata": {},
     "output_type": "execute_result"
    }
   ],
   "source": [
    "cars[0] = \"toyota\"\n",
    "cars"
   ]
  },
  {
   "cell_type": "code",
   "execution_count": 14,
   "id": "4f225a2d",
   "metadata": {},
   "outputs": [
    {
     "data": {
      "text/plain": [
       "['toyota', 'audi', 'ford', 'volvo', 'hyundai', 'kia', 'opel']"
      ]
     },
     "execution_count": 14,
     "metadata": {},
     "output_type": "execute_result"
    }
   ],
   "source": [
    "cars[-1] = \"opel\"\n",
    "cars"
   ]
  },
  {
   "cell_type": "code",
   "execution_count": 17,
   "id": "a1b11e56",
   "metadata": {},
   "outputs": [
    {
     "data": {
      "text/plain": [
       "['toyota',\n",
       " 'audi',\n",
       " 'ford',\n",
       " 'volvo',\n",
       " 'hyundai',\n",
       " 'kia',\n",
       " 'opel',\n",
       " 'daewoo',\n",
       " 'daewoo']"
      ]
     },
     "execution_count": 17,
     "metadata": {},
     "output_type": "execute_result"
    }
   ],
   "source": [
    "# adding\n",
    "# append(), insert()\n",
    "cars.append(\"daewoo\")\n",
    "cars"
   ]
  },
  {
   "cell_type": "code",
   "execution_count": 19,
   "id": "e2a66a55",
   "metadata": {},
   "outputs": [
    {
     "data": {
      "text/plain": [
       "['toyota',\n",
       " 'lambo',\n",
       " 'lambo',\n",
       " 'audi',\n",
       " 'ford',\n",
       " 'volvo',\n",
       " 'hyundai',\n",
       " 'kia',\n",
       " 'opel',\n",
       " 'daewoo',\n",
       " 'daewoo']"
      ]
     },
     "execution_count": 19,
     "metadata": {},
     "output_type": "execute_result"
    }
   ],
   "source": [
    "cars.insert(1, \"lambo\")\n",
    "cars"
   ]
  },
  {
   "cell_type": "code",
   "execution_count": null,
   "id": "d061ede1",
   "metadata": {},
   "outputs": [],
   "source": [
    "#removing from a list\n",
    "pop() remove() del"
   ]
  },
  {
   "cell_type": "code",
   "execution_count": 20,
   "id": "2618c828",
   "metadata": {},
   "outputs": [
    {
     "data": {
      "text/plain": [
       "['toyota',\n",
       " 'lambo',\n",
       " 'lambo',\n",
       " 'audi',\n",
       " 'ford',\n",
       " 'volvo',\n",
       " 'hyundai',\n",
       " 'kia',\n",
       " 'opel',\n",
       " 'daewoo']"
      ]
     },
     "execution_count": 20,
     "metadata": {},
     "output_type": "execute_result"
    }
   ],
   "source": [
    "cars.pop()\n",
    "cars"
   ]
  },
  {
   "cell_type": "code",
   "execution_count": 21,
   "id": "4aad9bec",
   "metadata": {},
   "outputs": [
    {
     "data": {
      "text/plain": [
       "['toyota', 'lambo', 'lambo', 'audi', 'ford', 'volvo', 'hyundai', 'kia', 'opel']"
      ]
     },
     "execution_count": 21,
     "metadata": {},
     "output_type": "execute_result"
    }
   ],
   "source": [
    "cars.remove(\"daewoo\")\n",
    "cars"
   ]
  },
  {
   "cell_type": "code",
   "execution_count": 22,
   "id": "4574c1fe",
   "metadata": {},
   "outputs": [
    {
     "data": {
      "text/plain": [
       "['toyota', 'lambo', 'lambo', 'audi', 'ford', 'volvo', 'hyundai', 'opel']"
      ]
     },
     "execution_count": 22,
     "metadata": {},
     "output_type": "execute_result"
    }
   ],
   "source": [
    "cars.remove(\"kia\")\n",
    "cars"
   ]
  },
  {
   "cell_type": "code",
   "execution_count": 23,
   "id": "82baea7f",
   "metadata": {},
   "outputs": [
    {
     "data": {
      "text/plain": [
       "['toyota', 'lambo', 'audi', 'ford', 'volvo', 'hyundai', 'opel']"
      ]
     },
     "execution_count": 23,
     "metadata": {},
     "output_type": "execute_result"
    }
   ],
   "source": [
    "del cars[1]\n",
    "cars"
   ]
  },
  {
   "cell_type": "code",
   "execution_count": 26,
   "id": "bee5cefa",
   "metadata": {},
   "outputs": [
    {
     "data": {
      "text/plain": [
       "['audi', 'ford', 'hyundai', 'lambo', 'opel', 'toyota', 'volvo']"
      ]
     },
     "execution_count": 26,
     "metadata": {},
     "output_type": "execute_result"
    }
   ],
   "source": [
    "#organisation of lists\n",
    "# sort\n",
    "#temporal\n",
    "sorted(cars)"
   ]
  },
  {
   "cell_type": "code",
   "execution_count": 27,
   "id": "ffc5e850",
   "metadata": {},
   "outputs": [
    {
     "data": {
      "text/plain": [
       "['audi', 'ford', 'hyundai', 'lambo', 'opel', 'toyota', 'volvo']"
      ]
     },
     "execution_count": 27,
     "metadata": {},
     "output_type": "execute_result"
    }
   ],
   "source": [
    "#permanent\n",
    "cars.sort()\n",
    "cars"
   ]
  },
  {
   "cell_type": "code",
   "execution_count": 28,
   "id": "5b2a88ab",
   "metadata": {},
   "outputs": [
    {
     "data": {
      "text/plain": [
       "['volvo', 'toyota', 'opel', 'lambo', 'hyundai', 'ford', 'audi']"
      ]
     },
     "execution_count": 28,
     "metadata": {},
     "output_type": "execute_result"
    }
   ],
   "source": [
    "cars.sort(reverse=True)\n",
    "cars"
   ]
  },
  {
   "cell_type": "code",
   "execution_count": 29,
   "id": "8b3ae476",
   "metadata": {},
   "outputs": [
    {
     "data": {
      "text/plain": [
       "['Tokyo', 'New York', 'Cairo', 'Accra', 'London', 'Sydney']"
      ]
     },
     "execution_count": 29,
     "metadata": {},
     "output_type": "execute_result"
    }
   ],
   "source": [
    "cities = [\"Tokyo\", \"New York\", \"Cairo\", \"Accra\", \"London\", \"Sydney\"]\n",
    "cities"
   ]
  },
  {
   "cell_type": "code",
   "execution_count": 30,
   "id": "508d42eb",
   "metadata": {},
   "outputs": [
    {
     "data": {
      "text/plain": [
       "6"
      ]
     },
     "execution_count": 30,
     "metadata": {},
     "output_type": "execute_result"
    }
   ],
   "source": [
    "len(cities)"
   ]
  },
  {
   "cell_type": "code",
   "execution_count": 44,
   "id": "173e6d45",
   "metadata": {},
   "outputs": [
    {
     "data": {
      "text/plain": [
       "5"
      ]
     },
     "execution_count": 44,
     "metadata": {},
     "output_type": "execute_result"
    }
   ],
   "source": [
    "len(cities[0])"
   ]
  },
  {
   "cell_type": "code",
   "execution_count": 35,
   "id": "c435d48c",
   "metadata": {},
   "outputs": [
    {
     "data": {
      "text/plain": [
       "['Tokyo', 'New York', 'Cairo', 'Accra', 'London', 'Sydney', 'Tamale']"
      ]
     },
     "execution_count": 35,
     "metadata": {},
     "output_type": "execute_result"
    }
   ],
   "source": [
    "cities.append(\"Tamale\")\n",
    "cities"
   ]
  },
  {
   "cell_type": "code",
   "execution_count": 36,
   "id": "ac27632e",
   "metadata": {},
   "outputs": [
    {
     "data": {
      "text/plain": [
       "['Tokyo', 'New York', 'Cairo', 'Accra', 'London', 'Sydney', 'Tamale', 'Madrid']"
      ]
     },
     "execution_count": 36,
     "metadata": {},
     "output_type": "execute_result"
    }
   ],
   "source": [
    "cities.append(\"Madrid\")\n",
    "cities"
   ]
  },
  {
   "cell_type": "code",
   "execution_count": 37,
   "id": "bcec7338",
   "metadata": {},
   "outputs": [
    {
     "data": {
      "text/plain": [
       "['Tokyo',\n",
       " 'New York',\n",
       " 'Cairo',\n",
       " 'Accra',\n",
       " 'London',\n",
       " 'Sydney',\n",
       " 'Tamale',\n",
       " 'Madrid',\n",
       " 'Lagos']"
      ]
     },
     "execution_count": 37,
     "metadata": {},
     "output_type": "execute_result"
    }
   ],
   "source": [
    "cities.append(\"Lagos\")\n",
    "cities"
   ]
  },
  {
   "cell_type": "code",
   "execution_count": 39,
   "id": "174da7fb",
   "metadata": {},
   "outputs": [
    {
     "data": {
      "text/plain": [
       "['Accra',\n",
       " 'Cairo',\n",
       " 'Lagos',\n",
       " 'London',\n",
       " 'Madrid',\n",
       " 'New York',\n",
       " 'Sydney',\n",
       " 'Tamale',\n",
       " 'Tokyo']"
      ]
     },
     "execution_count": 39,
     "metadata": {},
     "output_type": "execute_result"
    }
   ],
   "source": [
    "cities.sort()\n",
    "cities"
   ]
  },
  {
   "cell_type": "code",
   "execution_count": 40,
   "id": "73a92fd9",
   "metadata": {},
   "outputs": [
    {
     "data": {
      "text/plain": [
       "['Tokyo',\n",
       " 'Tamale',\n",
       " 'Sydney',\n",
       " 'New York',\n",
       " 'Madrid',\n",
       " 'London',\n",
       " 'Lagos',\n",
       " 'Cairo',\n",
       " 'Accra']"
      ]
     },
     "execution_count": 40,
     "metadata": {},
     "output_type": "execute_result"
    }
   ],
   "source": [
    "cities.sort(reverse=True)\n",
    "cities"
   ]
  },
  {
   "cell_type": "code",
   "execution_count": 46,
   "id": "71b93605",
   "metadata": {},
   "outputs": [
    {
     "data": {
      "text/plain": [
       "['Accra',\n",
       " 'Cairo',\n",
       " 'Lagos',\n",
       " 'London',\n",
       " 'Madrid',\n",
       " 'New York',\n",
       " 'Sydney',\n",
       " 'Tamale',\n",
       " 'Tokyo']"
      ]
     },
     "execution_count": 46,
     "metadata": {},
     "output_type": "execute_result"
    }
   ],
   "source": [
    "cities.sort(reverse=False)\n",
    "cities"
   ]
  },
  {
   "cell_type": "code",
   "execution_count": 47,
   "id": "6a076928",
   "metadata": {},
   "outputs": [
    {
     "data": {
      "text/plain": [
       "['Tokyo',\n",
       " 'Cairo',\n",
       " 'Lagos',\n",
       " 'London',\n",
       " 'Madrid',\n",
       " 'New York',\n",
       " 'Sydney',\n",
       " 'Tamale',\n",
       " 'Accra']"
      ]
     },
     "execution_count": 47,
     "metadata": {},
     "output_type": "execute_result"
    }
   ],
   "source": [
    "cities[0], cities[-1] = cities[-1], cities[0]\n",
    "cities"
   ]
  },
  {
   "cell_type": "code",
   "execution_count": 48,
   "id": "566ac55f",
   "metadata": {},
   "outputs": [
    {
     "data": {
      "text/plain": [
       "[1, 2, 3, 4, 5, 6, 7, 8, 9]"
      ]
     },
     "execution_count": 48,
     "metadata": {},
     "output_type": "execute_result"
    }
   ],
   "source": [
    "ages = [1, 2, 3, 4, 5, 6, 7, 8, 9]\n",
    "ages"
   ]
  },
  {
   "cell_type": "code",
   "execution_count": 49,
   "id": "840017eb",
   "metadata": {},
   "outputs": [
    {
     "data": {
      "text/plain": [
       "int"
      ]
     },
     "execution_count": 49,
     "metadata": {},
     "output_type": "execute_result"
    }
   ],
   "source": [
    "type(ages[0])"
   ]
  },
  {
   "cell_type": "code",
   "execution_count": 50,
   "id": "901e04f3",
   "metadata": {},
   "outputs": [
    {
     "data": {
      "text/plain": [
       "[[1, 2], [3, 4], [5, 6]]"
      ]
     },
     "execution_count": 50,
     "metadata": {},
     "output_type": "execute_result"
    }
   ],
   "source": [
    "nums = [[1, 2], [3, 4], [5, 6]]\n",
    "nums"
   ]
  },
  {
   "cell_type": "code",
   "execution_count": 51,
   "id": "f31bad37",
   "metadata": {},
   "outputs": [
    {
     "data": {
      "text/plain": [
       "[1, 2]"
      ]
     },
     "execution_count": 51,
     "metadata": {},
     "output_type": "execute_result"
    }
   ],
   "source": [
    "nums[0]"
   ]
  },
  {
   "cell_type": "code",
   "execution_count": 52,
   "id": "ccb596ac",
   "metadata": {},
   "outputs": [
    {
     "data": {
      "text/plain": [
       "1"
      ]
     },
     "execution_count": 52,
     "metadata": {},
     "output_type": "execute_result"
    }
   ],
   "source": [
    "nums[0][0]"
   ]
  },
  {
   "cell_type": "code",
   "execution_count": 53,
   "id": "6151c996",
   "metadata": {},
   "outputs": [
    {
     "data": {
      "text/plain": [
       "5"
      ]
     },
     "execution_count": 53,
     "metadata": {},
     "output_type": "execute_result"
    }
   ],
   "source": [
    "nums[-1][0]"
   ]
  },
  {
   "cell_type": "code",
   "execution_count": 55,
   "id": "110210ff",
   "metadata": {},
   "outputs": [
    {
     "data": {
      "text/plain": [
       "4"
      ]
     },
     "execution_count": 55,
     "metadata": {},
     "output_type": "execute_result"
    }
   ],
   "source": [
    "nums[1][1]"
   ]
  },
  {
   "cell_type": "code",
   "execution_count": 56,
   "id": "9120be36",
   "metadata": {},
   "outputs": [
    {
     "data": {
      "text/plain": [
       "[1, 2, 3, 4, 5, 6, 7, 8, 9]"
      ]
     },
     "execution_count": 56,
     "metadata": {},
     "output_type": "execute_result"
    }
   ],
   "source": [
    "ages"
   ]
  },
  {
   "cell_type": "code",
   "execution_count": null,
   "id": "d64feb84",
   "metadata": {},
   "outputs": [],
   "source": [
    "# range (start, end, step)\n",
    "# list()"
   ]
  },
  {
   "cell_type": "code",
   "execution_count": null,
   "id": "675f4a42",
   "metadata": {},
   "outputs": [],
   "source": []
  },
  {
   "cell_type": "code",
   "execution_count": null,
   "id": "1bb0a59a",
   "metadata": {},
   "outputs": [],
   "source": []
  },
  {
   "cell_type": "code",
   "execution_count": null,
   "id": "18c8b4dd",
   "metadata": {},
   "outputs": [],
   "source": []
  },
  {
   "cell_type": "code",
   "execution_count": null,
   "id": "6001d978",
   "metadata": {},
   "outputs": [],
   "source": []
  },
  {
   "cell_type": "code",
   "execution_count": null,
   "id": "67687ae0",
   "metadata": {},
   "outputs": [],
   "source": []
  },
  {
   "cell_type": "code",
   "execution_count": null,
   "id": "a8d3accd",
   "metadata": {},
   "outputs": [],
   "source": []
  },
  {
   "cell_type": "code",
   "execution_count": null,
   "id": "e5a3481d",
   "metadata": {},
   "outputs": [],
   "source": []
  },
  {
   "cell_type": "code",
   "execution_count": null,
   "id": "ce1f7a9d",
   "metadata": {},
   "outputs": [],
   "source": []
  },
  {
   "cell_type": "code",
   "execution_count": null,
   "id": "8af40f1b",
   "metadata": {},
   "outputs": [],
   "source": []
  }
 ],
 "metadata": {
  "kernelspec": {
   "display_name": "Python 3 (ipykernel)",
   "language": "python",
   "name": "python3"
  },
  "language_info": {
   "codemirror_mode": {
    "name": "ipython",
    "version": 3
   },
   "file_extension": ".py",
   "mimetype": "text/x-python",
   "name": "python",
   "nbconvert_exporter": "python",
   "pygments_lexer": "ipython3",
   "version": "3.11.4"
  }
 },
 "nbformat": 4,
 "nbformat_minor": 5
}
