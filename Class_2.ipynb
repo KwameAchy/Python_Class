{
 "cells": [
  {
   "cell_type": "code",
   "execution_count": 1,
   "id": "ce12243e",
   "metadata": {},
   "outputs": [
    {
     "data": {
      "text/plain": [
       "['macbook', 'asus', 'dell', 'lenovo']"
      ]
     },
     "execution_count": 1,
     "metadata": {},
     "output_type": "execute_result"
    }
   ],
   "source": [
    "# lists\n",
    "laptop_models = [\"macbook\", \"asus\", \"dell\", \"lenovo\"]\n",
    "laptop_models"
   ]
  },
  {
   "cell_type": "code",
   "execution_count": 2,
   "id": "54a168ee",
   "metadata": {},
   "outputs": [
    {
     "data": {
      "text/plain": [
       "4"
      ]
     },
     "execution_count": 2,
     "metadata": {},
     "output_type": "execute_result"
    }
   ],
   "source": [
    "len(laptop_models)"
   ]
  },
  {
   "cell_type": "code",
   "execution_count": 3,
   "id": "fb7e78a6",
   "metadata": {},
   "outputs": [
    {
     "data": {
      "text/plain": [
       "['bank', 28, True, ['one', 'two']]"
      ]
     },
     "execution_count": 3,
     "metadata": {},
     "output_type": "execute_result"
    }
   ],
   "source": [
    "list_example = [\"bank\", 28, True, [\"one\", \"two\"]]\n",
    "list_example"
   ]
  },
  {
   "cell_type": "code",
   "execution_count": 4,
   "id": "0717fb63",
   "metadata": {},
   "outputs": [
    {
     "data": {
      "text/plain": [
       "'macbook'"
      ]
     },
     "execution_count": 4,
     "metadata": {},
     "output_type": "execute_result"
    }
   ],
   "source": [
    "# laptop_models[position]\n",
    "laptop_models[0]"
   ]
  },
  {
   "cell_type": "code",
   "execution_count": 5,
   "id": "2a2ee685",
   "metadata": {},
   "outputs": [
    {
     "data": {
      "text/plain": [
       "'asus'"
      ]
     },
     "execution_count": 5,
     "metadata": {},
     "output_type": "execute_result"
    }
   ],
   "source": [
    "laptop_models[1]"
   ]
  },
  {
   "cell_type": "code",
   "execution_count": 6,
   "id": "21ea7ebc",
   "metadata": {},
   "outputs": [
    {
     "data": {
      "text/plain": [
       "'macbook'"
      ]
     },
     "execution_count": 6,
     "metadata": {},
     "output_type": "execute_result"
    }
   ],
   "source": [
    "laptop_models[len(laptop_models) -4]"
   ]
  },
  {
   "cell_type": "code",
   "execution_count": 7,
   "id": "6cda5aa6",
   "metadata": {},
   "outputs": [
    {
     "data": {
      "text/plain": [
       "'dell'"
      ]
     },
     "execution_count": 7,
     "metadata": {},
     "output_type": "execute_result"
    }
   ],
   "source": [
    "laptop_models[-2]"
   ]
  },
  {
   "cell_type": "code",
   "execution_count": 8,
   "id": "99370431",
   "metadata": {},
   "outputs": [
    {
     "data": {
      "text/plain": [
       "['macbook', 'asus', 'dell', 'lenovo', 'sony']"
      ]
     },
     "execution_count": 8,
     "metadata": {},
     "output_type": "execute_result"
    }
   ],
   "source": [
    "# modification\n",
    "#add\n",
    "# append(), insert()\n",
    "laptop_models.append(\"sony\")\n",
    "laptop_models"
   ]
  },
  {
   "cell_type": "code",
   "execution_count": 9,
   "id": "635bd4cb",
   "metadata": {},
   "outputs": [
    {
     "data": {
      "text/plain": [
       "['hp', 'macbook', 'asus', 'dell', 'lenovo', 'sony']"
      ]
     },
     "execution_count": 9,
     "metadata": {},
     "output_type": "execute_result"
    }
   ],
   "source": [
    "laptop_models.insert(0, \"hp\")\n",
    "laptop_models"
   ]
  },
  {
   "cell_type": "code",
   "execution_count": 10,
   "id": "49f16e08",
   "metadata": {},
   "outputs": [
    {
     "data": {
      "text/plain": [
       "['hp', 'macbook', 'toshiba', 'asus', 'dell', 'lenovo', 'sony']"
      ]
     },
     "execution_count": 10,
     "metadata": {},
     "output_type": "execute_result"
    }
   ],
   "source": [
    "laptop_models.insert(2, \"toshiba\")\n",
    "laptop_models"
   ]
  },
  {
   "cell_type": "code",
   "execution_count": 11,
   "id": "b4b16831",
   "metadata": {},
   "outputs": [
    {
     "data": {
      "text/plain": [
       "'sony'"
      ]
     },
     "execution_count": 11,
     "metadata": {},
     "output_type": "execute_result"
    }
   ],
   "source": [
    "laptop_models.pop()"
   ]
  },
  {
   "cell_type": "code",
   "execution_count": 12,
   "id": "fb66e92f",
   "metadata": {},
   "outputs": [
    {
     "data": {
      "text/plain": [
       "['hp', 'macbook', 'toshiba', 'asus', 'dell', 'lenovo']"
      ]
     },
     "execution_count": 12,
     "metadata": {},
     "output_type": "execute_result"
    }
   ],
   "source": [
    "laptop_models"
   ]
  },
  {
   "cell_type": "code",
   "execution_count": 13,
   "id": "192c292b",
   "metadata": {},
   "outputs": [
    {
     "data": {
      "text/plain": [
       "['hp', 'macbook', 'asus', 'dell', 'lenovo']"
      ]
     },
     "execution_count": 13,
     "metadata": {},
     "output_type": "execute_result"
    }
   ],
   "source": [
    "laptop_models.pop(2)\n",
    "laptop_models"
   ]
  },
  {
   "cell_type": "code",
   "execution_count": 14,
   "id": "1b4ef151",
   "metadata": {},
   "outputs": [
    {
     "data": {
      "text/plain": [
       "['hp', 'macbook', 'dell', 'lenovo']"
      ]
     },
     "execution_count": 14,
     "metadata": {},
     "output_type": "execute_result"
    }
   ],
   "source": [
    "laptop_models.remove(\"asus\")\n",
    "laptop_models"
   ]
  },
  {
   "cell_type": "code",
   "execution_count": 15,
   "id": "2184b4b8",
   "metadata": {},
   "outputs": [
    {
     "data": {
      "text/plain": [
       "['hp', 'macbook', 'lenovo']"
      ]
     },
     "execution_count": 15,
     "metadata": {},
     "output_type": "execute_result"
    }
   ],
   "source": [
    "del laptop_models[2]\n",
    "laptop_models"
   ]
  },
  {
   "cell_type": "code",
   "execution_count": 16,
   "id": "c81554d7",
   "metadata": {},
   "outputs": [
    {
     "data": {
      "text/plain": [
       "['toyota', 'lambo', 'audi', 'ford', 'volvo', 'hyundai', 'opel']"
      ]
     },
     "execution_count": 16,
     "metadata": {},
     "output_type": "execute_result"
    }
   ],
   "source": [
    "cars = ['toyota', 'lambo', 'audi', 'ford', 'volvo', 'hyundai', 'opel']\n",
    "cars"
   ]
  },
  {
   "cell_type": "code",
   "execution_count": 18,
   "id": "3430fa49",
   "metadata": {},
   "outputs": [
    {
     "data": {
      "text/plain": [
       "7"
      ]
     },
     "execution_count": 18,
     "metadata": {},
     "output_type": "execute_result"
    }
   ],
   "source": [
    "len(cars)"
   ]
  },
  {
   "cell_type": "code",
   "execution_count": 19,
   "id": "fb535f12",
   "metadata": {},
   "outputs": [
    {
     "data": {
      "text/plain": [
       "['audi', 'ford', 'hyundai', 'lambo', 'opel', 'toyota', 'volvo']"
      ]
     },
     "execution_count": 19,
     "metadata": {},
     "output_type": "execute_result"
    }
   ],
   "source": [
    "sorted(cars)"
   ]
  },
  {
   "cell_type": "code",
   "execution_count": 20,
   "id": "ab2cd1db",
   "metadata": {},
   "outputs": [
    {
     "data": {
      "text/plain": [
       "['toyota', 'lambo', 'audi', 'ford', 'volvo', 'hyundai', 'opel']"
      ]
     },
     "execution_count": 20,
     "metadata": {},
     "output_type": "execute_result"
    }
   ],
   "source": [
    "cars"
   ]
  },
  {
   "cell_type": "code",
   "execution_count": 22,
   "id": "5386720b",
   "metadata": {},
   "outputs": [
    {
     "data": {
      "text/plain": [
       "['audi', 'ford', 'hyundai', 'lambo', 'opel', 'toyota', 'volvo']"
      ]
     },
     "execution_count": 22,
     "metadata": {},
     "output_type": "execute_result"
    }
   ],
   "source": [
    "cars.sort()\n",
    "cars"
   ]
  },
  {
   "cell_type": "code",
   "execution_count": 23,
   "id": "e4a9a4b5",
   "metadata": {},
   "outputs": [
    {
     "data": {
      "text/plain": [
       "['toyota', 'lambo', 'audi', 'ford', 'volvo', 'hyundai', 'opel']"
      ]
     },
     "execution_count": 23,
     "metadata": {},
     "output_type": "execute_result"
    }
   ],
   "source": [
    "cars = ['toyota', 'lambo', 'audi', 'ford', 'volvo', 'hyundai', 'opel']\n",
    "cars"
   ]
  },
  {
   "cell_type": "code",
   "execution_count": 24,
   "id": "5993ddaa",
   "metadata": {},
   "outputs": [
    {
     "data": {
      "text/plain": [
       "['audi', 'ford', 'hyundai', 'lambo', 'opel', 'toyota', 'volvo']"
      ]
     },
     "execution_count": 24,
     "metadata": {},
     "output_type": "execute_result"
    }
   ],
   "source": [
    "sorted_cars = sorted(cars)\n",
    "sorted_cars"
   ]
  },
  {
   "cell_type": "code",
   "execution_count": 25,
   "id": "d0bc6cae",
   "metadata": {},
   "outputs": [
    {
     "data": {
      "text/plain": [
       "['toyota', 'lambo', 'audi', 'ford', 'volvo', 'hyundai', 'opel']"
      ]
     },
     "execution_count": 25,
     "metadata": {},
     "output_type": "execute_result"
    }
   ],
   "source": [
    "cars"
   ]
  },
  {
   "cell_type": "code",
   "execution_count": 26,
   "id": "0f590afb",
   "metadata": {},
   "outputs": [
    {
     "data": {
      "text/plain": [
       "5"
      ]
     },
     "execution_count": 26,
     "metadata": {},
     "output_type": "execute_result"
    }
   ],
   "source": [
    "len(cars[1])"
   ]
  },
  {
   "cell_type": "code",
   "execution_count": 27,
   "id": "9c29c112",
   "metadata": {},
   "outputs": [
    {
     "data": {
      "text/plain": [
       "[10, 15, 12, 10, 15, 17, 8, 20]"
      ]
     },
     "execution_count": 27,
     "metadata": {},
     "output_type": "execute_result"
    }
   ],
   "source": [
    "ages = [10, 15, 12, 10, 15, 17, 8, 20]\n",
    "ages"
   ]
  },
  {
   "cell_type": "code",
   "execution_count": 28,
   "id": "f4383628",
   "metadata": {},
   "outputs": [
    {
     "data": {
      "text/plain": [
       "20"
      ]
     },
     "execution_count": 28,
     "metadata": {},
     "output_type": "execute_result"
    }
   ],
   "source": [
    "max(ages)"
   ]
  },
  {
   "cell_type": "code",
   "execution_count": 29,
   "id": "47f69e20",
   "metadata": {},
   "outputs": [
    {
     "data": {
      "text/plain": [
       "107"
      ]
     },
     "execution_count": 29,
     "metadata": {},
     "output_type": "execute_result"
    }
   ],
   "source": [
    "sum(ages)"
   ]
  },
  {
   "cell_type": "code",
   "execution_count": 31,
   "id": "099221e0",
   "metadata": {},
   "outputs": [
    {
     "data": {
      "text/plain": [
       "8"
      ]
     },
     "execution_count": 31,
     "metadata": {},
     "output_type": "execute_result"
    }
   ],
   "source": [
    "min(ages)"
   ]
  },
  {
   "cell_type": "code",
   "execution_count": 32,
   "id": "67eadd4e",
   "metadata": {},
   "outputs": [
    {
     "data": {
      "text/plain": [
       "55"
      ]
     },
     "execution_count": 32,
     "metadata": {},
     "output_type": "execute_result"
    }
   ],
   "source": [
    "# range (start, end+1, step) \"Default step increment is 1\"\n",
    "# [0,1, 2, 3, 4, 5, 6, 7, 8, 9, 10]\n",
    "\n",
    "nums = [0,1, 2, 3, 4, 5, 6, 7, 8, 9, 10]\n",
    "sum(nums)"
   ]
  },
  {
   "cell_type": "code",
   "execution_count": 33,
   "id": "ed96e05e",
   "metadata": {},
   "outputs": [
    {
     "data": {
      "text/plain": [
       "55"
      ]
     },
     "execution_count": 33,
     "metadata": {},
     "output_type": "execute_result"
    }
   ],
   "source": [
    "sum(range(0, 11))"
   ]
  },
  {
   "cell_type": "code",
   "execution_count": 34,
   "id": "11d60b63",
   "metadata": {},
   "outputs": [
    {
     "name": "stdout",
     "output_type": "stream",
     "text": [
      "0\n",
      "2\n",
      "4\n",
      "6\n",
      "8\n",
      "10\n",
      "12\n",
      "14\n",
      "16\n",
      "18\n",
      "20\n"
     ]
    }
   ],
   "source": [
    "# for loop ....... \"/n\" means continue on  next line\n",
    "for n in nums:\n",
    "    print(n*2)"
   ]
  },
  {
   "cell_type": "code",
   "execution_count": 35,
   "id": "8117ddce",
   "metadata": {},
   "outputs": [
    {
     "name": "stdout",
     "output_type": "stream",
     "text": [
      "0, 2, 4, 6, 8, 10, 12, 14, 16, 18, 20, "
     ]
    }
   ],
   "source": [
    "for n in nums:\n",
    "    print(n*2, end = \", \")"
   ]
  },
  {
   "cell_type": "code",
   "execution_count": 36,
   "id": "13691070",
   "metadata": {},
   "outputs": [
    {
     "name": "stdout",
     "output_type": "stream",
     "text": [
      "0\n",
      "1\n",
      "4\n",
      "9\n",
      "16\n",
      "25\n",
      "36\n",
      "49\n",
      "64\n",
      "81\n",
      "100\n"
     ]
    }
   ],
   "source": [
    "for num in nums:\n",
    "    print (num**2)"
   ]
  },
  {
   "cell_type": "code",
   "execution_count": 37,
   "id": "3fc09c0f",
   "metadata": {},
   "outputs": [
    {
     "data": {
      "text/plain": [
       "[0, 1, 4, 9, 16, 25, 36, 49, 64, 81, 100]"
      ]
     },
     "execution_count": 37,
     "metadata": {},
     "output_type": "execute_result"
    }
   ],
   "source": [
    "nums = [0,1, 2, 3, 4, 5, 6, 7, 8, 9, 10]\n",
    "\n",
    "# find the sum of the squared values between 0 and 10\n",
    "\n",
    "squared_values = []\n",
    "for n in nums:\n",
    "    squared_values.append(n**2)\n",
    "    \n",
    "squared_values"
   ]
  },
  {
   "cell_type": "code",
   "execution_count": 38,
   "id": "57154149",
   "metadata": {},
   "outputs": [
    {
     "data": {
      "text/plain": [
       "385"
      ]
     },
     "execution_count": 38,
     "metadata": {},
     "output_type": "execute_result"
    }
   ],
   "source": [
    "sum(squared_values)"
   ]
  },
  {
   "cell_type": "code",
   "execution_count": null,
   "id": "3811d76c",
   "metadata": {},
   "outputs": [],
   "source": [
    "# find the sum of the cubed values between 10 and 20 using the range method\n",
    "# range (start, end+1, step)\n"
   ]
  },
  {
   "cell_type": "code",
   "execution_count": 41,
   "id": "399ee930",
   "metadata": {},
   "outputs": [
    {
     "data": {
      "text/plain": [
       "165"
      ]
     },
     "execution_count": 41,
     "metadata": {},
     "output_type": "execute_result"
    }
   ],
   "source": [
    "values = range(10, 21)\n",
    "sum(range(10, 21))"
   ]
  },
  {
   "cell_type": "code",
   "execution_count": 42,
   "id": "8761bd4f",
   "metadata": {},
   "outputs": [
    {
     "data": {
      "text/plain": [
       "[1000, 1331, 1728, 2197, 2744, 3375, 4096, 4913, 5832, 6859, 8000]"
      ]
     },
     "execution_count": 42,
     "metadata": {},
     "output_type": "execute_result"
    }
   ],
   "source": [
    "cubed_values = []\n",
    "for n in range(10, 21):\n",
    "    cubed_values.append(n**3)\n",
    "    \n",
    "cubed_values"
   ]
  },
  {
   "cell_type": "code",
   "execution_count": 43,
   "id": "4d3be279",
   "metadata": {},
   "outputs": [
    {
     "data": {
      "text/plain": [
       "42075"
      ]
     },
     "execution_count": 43,
     "metadata": {},
     "output_type": "execute_result"
    }
   ],
   "source": [
    "sum(cubed_values)"
   ]
  },
  {
   "cell_type": "code",
   "execution_count": 46,
   "id": "0a32c218",
   "metadata": {},
   "outputs": [
    {
     "data": {
      "text/plain": [
       "[10, 11, 12, 13, 14, 15, 16, 17, 18, 19, 20]"
      ]
     },
     "execution_count": 46,
     "metadata": {},
     "output_type": "execute_result"
    }
   ],
   "source": [
    "numbers = range(10, 21)\n",
    "list(numbers)"
   ]
  },
  {
   "cell_type": "code",
   "execution_count": 47,
   "id": "5cc4b679",
   "metadata": {},
   "outputs": [
    {
     "data": {
      "text/plain": [
       "True"
      ]
     },
     "execution_count": 47,
     "metadata": {},
     "output_type": "execute_result"
    }
   ],
   "source": [
    "15 in numbers"
   ]
  },
  {
   "cell_type": "code",
   "execution_count": 48,
   "id": "46ffec83",
   "metadata": {},
   "outputs": [
    {
     "data": {
      "text/plain": [
       "False"
      ]
     },
     "execution_count": 48,
     "metadata": {},
     "output_type": "execute_result"
    }
   ],
   "source": [
    "25 in numbers"
   ]
  },
  {
   "cell_type": "code",
   "execution_count": null,
   "id": "15c7c7e6",
   "metadata": {},
   "outputs": [],
   "source": [
    "#branching\n",
    "# Truthy or Falsey, boolean\n",
    "# Comparison operators\n",
    "# == - Equal to, !=  - not equal to, "
   ]
  },
  {
   "cell_type": "code",
   "execution_count": 49,
   "id": "c4ec1c25",
   "metadata": {},
   "outputs": [
    {
     "data": {
      "text/plain": [
       "False"
      ]
     },
     "execution_count": 49,
     "metadata": {},
     "output_type": "execute_result"
    }
   ],
   "source": [
    "# logical operators\n",
    "# and, or For and, both sides have to be true to return True. For or only one side needs to be true to return True\n",
    "\n",
    "(1 == 1) and (10 < 9)"
   ]
  },
  {
   "cell_type": "code",
   "execution_count": 51,
   "id": "028e9867",
   "metadata": {},
   "outputs": [
    {
     "data": {
      "text/plain": [
       "True"
      ]
     },
     "execution_count": 51,
     "metadata": {},
     "output_type": "execute_result"
    }
   ],
   "source": [
    "(1 == 1) or (10 < 9)"
   ]
  },
  {
   "cell_type": "code",
   "execution_count": 53,
   "id": "33c9a19b",
   "metadata": {},
   "outputs": [
    {
     "name": "stdout",
     "output_type": "stream",
     "text": [
      "you can vote\n"
     ]
    }
   ],
   "source": [
    "# if statements\n",
    "# if (condition):\n",
    "#    perform an action\n",
    "# else:\n",
    "#    we perform a different action\n",
    "\n",
    "age = 19\n",
    "if (age >= 18):\n",
    "    print(\"you can vote\")\n",
    "else:\n",
    "    print(\"you're a minor\")"
   ]
  },
  {
   "cell_type": "code",
   "execution_count": null,
   "id": "e740137c",
   "metadata": {},
   "outputs": [],
   "source": []
  },
  {
   "cell_type": "code",
   "execution_count": 54,
   "id": "cd732b61",
   "metadata": {},
   "outputs": [
    {
     "data": {
      "text/plain": [
       "[0, 2, 4, 6, 8, 10, 12, 14, 16, 18, 20]"
      ]
     },
     "execution_count": 54,
     "metadata": {},
     "output_type": "execute_result"
    }
   ],
   "source": [
    "even = []\n",
    "odd = []\n",
    "numbers = range(0, 21)\n",
    "\n",
    "for n in numbers:\n",
    "    if n % 2 == 0:\n",
    "        even.append(n)\n",
    "    else:\n",
    "        odd.append(n)\n",
    "\n",
    "even"
   ]
  },
  {
   "cell_type": "code",
   "execution_count": 55,
   "id": "d55ffe05",
   "metadata": {},
   "outputs": [
    {
     "data": {
      "text/plain": [
       "[1, 3, 5, 7, 9, 11, 13, 15, 17, 19]"
      ]
     },
     "execution_count": 55,
     "metadata": {},
     "output_type": "execute_result"
    }
   ],
   "source": [
    "odd"
   ]
  },
  {
   "cell_type": "code",
   "execution_count": 57,
   "id": "53f99b6a",
   "metadata": {},
   "outputs": [
    {
     "name": "stdout",
     "output_type": "stream",
     "text": [
      "You can drive\n"
     ]
    }
   ],
   "source": [
    "age = 17\n",
    "\n",
    "if age >= 21:\n",
    "    print(\"You can take alcohol\")\n",
    "elif age >= 18:\n",
    "    print(\"You can vote\")\n",
    "elif age >= 16:\n",
    "    print(\"You can drive\")\n",
    "else:\n",
    "    print(\"You are a minor\")"
   ]
  },
  {
   "cell_type": "code",
   "execution_count": null,
   "id": "115d4f40",
   "metadata": {},
   "outputs": [],
   "source": [
    "# marking scheme\n",
    "# 80 -> 100 A\n",
    "# 70 -> 79 B\n",
    "# 60 -> 69 C\n",
    "# 50 -> 59 D\n",
    "# <50 -> F\n",
    "\n"
   ]
  },
  {
   "cell_type": "code",
   "execution_count": 10,
   "id": "a1abf0ea",
   "metadata": {},
   "outputs": [
    {
     "data": {
      "text/plain": [
       "[89, 69, 90, 48, 80, 77, 60, 72, 59, 73, 45, 66, 73, 57, 80]"
      ]
     },
     "execution_count": 10,
     "metadata": {},
     "output_type": "execute_result"
    }
   ],
   "source": [
    "scores = [89, 69, 90, 48, 80, 77, 60, 72, 59, 73, 45, 66, 73, 57, 80]\n",
    "\n",
    "scores"
   ]
  },
  {
   "cell_type": "code",
   "execution_count": null,
   "id": "83254995",
   "metadata": {},
   "outputs": [],
   "source": []
  },
  {
   "cell_type": "code",
   "execution_count": 11,
   "id": "6d0a2e0b",
   "metadata": {},
   "outputs": [
    {
     "name": "stdout",
     "output_type": "stream",
     "text": [
      "A\n",
      "C\n",
      "A\n",
      "F\n",
      "A\n",
      "B\n",
      "C\n",
      "B\n",
      "D\n",
      "B\n",
      "F\n",
      "C\n",
      "B\n",
      "D\n",
      "A\n"
     ]
    }
   ],
   "source": [
    "for n in scores:\n",
    "    if n >= 80:\n",
    "        print(\"A\")\n",
    "    elif n >= 70:\n",
    "        print(\"B\")\n",
    "    elif n >= 60:\n",
    "        print(\"C\")\n",
    "    elif n >= 50:\n",
    "        print(\"D\")\n",
    "    else:\n",
    "        print(\"F\")"
   ]
  },
  {
   "cell_type": "code",
   "execution_count": 8,
   "id": "f630ab66",
   "metadata": {},
   "outputs": [
    {
     "data": {
      "text/plain": [
       "[0, 1, 2, 3, 4, 5, 6, 7, 8, 9]"
      ]
     },
     "execution_count": 8,
     "metadata": {},
     "output_type": "execute_result"
    }
   ],
   "source": [
    "# slicing - means to work with part of the list -\n",
    "nums = [0,1, 2, 3, 4, 5, 6, 7, 8, 9, 10]\n",
    "sliced_nums = nums[0:10]\n",
    "sliced_nums"
   ]
  },
  {
   "cell_type": "code",
   "execution_count": 9,
   "id": "0fb10b9e",
   "metadata": {},
   "outputs": [
    {
     "data": {
      "text/plain": [
       "10"
      ]
     },
     "execution_count": 9,
     "metadata": {},
     "output_type": "execute_result"
    }
   ],
   "source": [
    "nums[10]"
   ]
  },
  {
   "cell_type": "code",
   "execution_count": null,
   "id": "105a285b",
   "metadata": {},
   "outputs": [],
   "source": []
  },
  {
   "cell_type": "code",
   "execution_count": null,
   "id": "e7df9a95",
   "metadata": {},
   "outputs": [],
   "source": []
  },
  {
   "cell_type": "code",
   "execution_count": 3,
   "id": "557aa9a2",
   "metadata": {},
   "outputs": [
    {
     "data": {
      "text/plain": [
       "'C+'"
      ]
     },
     "execution_count": 3,
     "metadata": {},
     "output_type": "execute_result"
    }
   ],
   "source": [
    "grades = [ \"A\", \"A+\", \"B\", \"B+\", \"C\", \"C+\"]\n",
    "\n",
    "grades[5]"
   ]
  },
  {
   "cell_type": "code",
   "execution_count": 4,
   "id": "37cbd6ab",
   "metadata": {},
   "outputs": [
    {
     "data": {
      "text/plain": [
       "'C+'"
      ]
     },
     "execution_count": 4,
     "metadata": {},
     "output_type": "execute_result"
    }
   ],
   "source": [
    "grades[-1]"
   ]
  },
  {
   "cell_type": "code",
   "execution_count": 6,
   "id": "45f26464",
   "metadata": {},
   "outputs": [
    {
     "data": {
      "text/plain": [
       "['B', 'B+', 'C', 'C+']"
      ]
     },
     "execution_count": 6,
     "metadata": {},
     "output_type": "execute_result"
    }
   ],
   "source": [
    "grades[2:6]"
   ]
  },
  {
   "cell_type": "code",
   "execution_count": null,
   "id": "6d4c27ad",
   "metadata": {},
   "outputs": [],
   "source": []
  },
  {
   "cell_type": "code",
   "execution_count": null,
   "id": "8028b751",
   "metadata": {},
   "outputs": [],
   "source": []
  },
  {
   "cell_type": "code",
   "execution_count": 14,
   "id": "86812440",
   "metadata": {},
   "outputs": [
    {
     "data": {
      "text/plain": [
       "[2, 3, 4, 5]"
      ]
     },
     "execution_count": 14,
     "metadata": {},
     "output_type": "execute_result"
    }
   ],
   "source": [
    "ex = nums[2:6]\n",
    "ex"
   ]
  },
  {
   "cell_type": "code",
   "execution_count": 15,
   "id": "e68ed20e",
   "metadata": {},
   "outputs": [
    {
     "data": {
      "text/plain": [
       "[0, 1, 2, 3, 4, 5]"
      ]
     },
     "execution_count": 15,
     "metadata": {},
     "output_type": "execute_result"
    }
   ],
   "source": [
    "a = nums[:6]\n",
    "a"
   ]
  },
  {
   "cell_type": "code",
   "execution_count": 16,
   "id": "825bc0ed",
   "metadata": {},
   "outputs": [
    {
     "data": {
      "text/plain": [
       "[2, 3, 4, 5, 6, 7, 8, 9, 10]"
      ]
     },
     "execution_count": 16,
     "metadata": {},
     "output_type": "execute_result"
    }
   ],
   "source": [
    "b = nums[2:]        \n",
    "b"
   ]
  },
  {
   "cell_type": "code",
   "execution_count": 17,
   "id": "779f7100",
   "metadata": {},
   "outputs": [
    {
     "data": {
      "text/plain": [
       "[0, 1, 2, 3, 4, 5, 6, 7, 8, 9, 10]"
      ]
     },
     "execution_count": 17,
     "metadata": {},
     "output_type": "execute_result"
    }
   ],
   "source": [
    "c = nums[:]\n",
    "c"
   ]
  },
  {
   "cell_type": "code",
   "execution_count": null,
   "id": "76ee32c8",
   "metadata": {},
   "outputs": [],
   "source": []
  },
  {
   "cell_type": "code",
   "execution_count": 19,
   "id": "2f63de37",
   "metadata": {},
   "outputs": [
    {
     "data": {
      "text/plain": [
       "[0, 1, 2, 3, 4, 5, 6, 7, 8, 9, 10]"
      ]
     },
     "execution_count": 19,
     "metadata": {},
     "output_type": "execute_result"
    }
   ],
   "source": [
    "nums_copy = nums\n",
    "nums_copy"
   ]
  },
  {
   "cell_type": "code",
   "execution_count": 20,
   "id": "ebb12ff4",
   "metadata": {},
   "outputs": [
    {
     "data": {
      "text/plain": [
       "[0, 1, 2, 3, 4, 5, 6, 7, 8, 9, 10, 11]"
      ]
     },
     "execution_count": 20,
     "metadata": {},
     "output_type": "execute_result"
    }
   ],
   "source": [
    "nums_copy.append(11)\n",
    "nums_copy"
   ]
  },
  {
   "cell_type": "code",
   "execution_count": 21,
   "id": "84b807a1",
   "metadata": {},
   "outputs": [
    {
     "data": {
      "text/plain": [
       "[0, 1, 2, 3, 4, 5, 6, 7, 8, 9, 10, 11]"
      ]
     },
     "execution_count": 21,
     "metadata": {},
     "output_type": "execute_result"
    }
   ],
   "source": [
    "nums_copy_right = nums[:]\n",
    "nums_copy_right"
   ]
  },
  {
   "cell_type": "code",
   "execution_count": 22,
   "id": "3a4ba52d",
   "metadata": {},
   "outputs": [
    {
     "data": {
      "text/plain": [
       "[0, 1, 2, 3, 4, 5, 6, 7, 8, 9, 10, 11, 12]"
      ]
     },
     "execution_count": 22,
     "metadata": {},
     "output_type": "execute_result"
    }
   ],
   "source": [
    "nums_copy_right.append(12)\n",
    "nums_copy_right"
   ]
  },
  {
   "cell_type": "code",
   "execution_count": 23,
   "id": "df8880e8",
   "metadata": {},
   "outputs": [
    {
     "data": {
      "text/plain": [
       "[0, 1, 2, 3, 4, 5, 6, 7, 8, 9, 10, 11]"
      ]
     },
     "execution_count": 23,
     "metadata": {},
     "output_type": "execute_result"
    }
   ],
   "source": [
    "nums"
   ]
  },
  {
   "cell_type": "code",
   "execution_count": null,
   "id": "0b72f079",
   "metadata": {},
   "outputs": [],
   "source": []
  },
  {
   "cell_type": "code",
   "execution_count": 27,
   "id": "823c6c0b",
   "metadata": {},
   "outputs": [],
   "source": [
    "d = 15"
   ]
  },
  {
   "cell_type": "code",
   "execution_count": null,
   "id": "90e39ebc",
   "metadata": {},
   "outputs": [],
   "source": [
    "# id shows the location of the varialble in the pc's memory                                                                         "
   ]
  },
  {
   "cell_type": "code",
   "execution_count": 28,
   "id": "e8345d2e",
   "metadata": {},
   "outputs": [
    {
     "data": {
      "text/plain": [
       "140721321207016"
      ]
     },
     "execution_count": 28,
     "metadata": {},
     "output_type": "execute_result"
    }
   ],
   "source": [
    "id(d)"
   ]
  },
  {
   "cell_type": "code",
   "execution_count": null,
   "id": "83f7ddf0",
   "metadata": {},
   "outputs": [],
   "source": []
  },
  {
   "cell_type": "code",
   "execution_count": 26,
   "id": "532e0377",
   "metadata": {},
   "outputs": [
    {
     "data": {
      "text/plain": [
       "1309651669888"
      ]
     },
     "execution_count": 26,
     "metadata": {},
     "output_type": "execute_result"
    }
   ],
   "source": [
    "id(nums)"
   ]
  },
  {
   "cell_type": "code",
   "execution_count": null,
   "id": "b385b346",
   "metadata": {},
   "outputs": [],
   "source": []
  },
  {
   "cell_type": "code",
   "execution_count": null,
   "id": "f3a318d2",
   "metadata": {},
   "outputs": [],
   "source": []
  },
  {
   "cell_type": "code",
   "execution_count": null,
   "id": "f9d77bf8",
   "metadata": {},
   "outputs": [],
   "source": []
  },
  {
   "cell_type": "code",
   "execution_count": null,
   "id": "183fc385",
   "metadata": {},
   "outputs": [],
   "source": []
  },
  {
   "cell_type": "code",
   "execution_count": null,
   "id": "8dbe2cc5",
   "metadata": {},
   "outputs": [],
   "source": []
  },
  {
   "cell_type": "code",
   "execution_count": null,
   "id": "3d1bad19",
   "metadata": {},
   "outputs": [],
   "source": []
  },
  {
   "cell_type": "code",
   "execution_count": null,
   "id": "a91dcf49",
   "metadata": {},
   "outputs": [],
   "source": []
  },
  {
   "cell_type": "code",
   "execution_count": null,
   "id": "098fdbab",
   "metadata": {},
   "outputs": [],
   "source": []
  }
 ],
 "metadata": {
  "kernelspec": {
   "display_name": "Python 3 (ipykernel)",
   "language": "python",
   "name": "python3"
  },
  "language_info": {
   "codemirror_mode": {
    "name": "ipython",
    "version": 3
   },
   "file_extension": ".py",
   "mimetype": "text/x-python",
   "name": "python",
   "nbconvert_exporter": "python",
   "pygments_lexer": "ipython3",
   "version": "3.11.4"
  }
 },
 "nbformat": 4,
 "nbformat_minor": 5
}
